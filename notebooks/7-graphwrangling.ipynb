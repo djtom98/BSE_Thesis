{
 "cells": [
  {
   "attachments": {},
   "cell_type": "markdown",
   "metadata": {},
   "source": [
    "# Guide on how to wrangle the graph data, NEEDS REVISION!"
   ]
  },
  {
   "attachments": {},
   "cell_type": "markdown",
   "metadata": {},
   "source": [
    "Link to understand the graph object: \\\n",
    "https://pytorch-geometric.readthedocs.io/en/latest/generated/torch_geometric.data.Data.html#torch_geometric.data.Data \\\n",
    "Link to understand the Dataset class: \\\n",
    "https://pytorch-geometric.readthedocs.io/en/latest/tutorial/create_dataset.html#exercises \\\n",
    "Note that the graph objects are HeteroData objects, which are a subclass of Data objects. \\"
   ]
  },
  {
   "cell_type": "code",
   "execution_count": null,
   "metadata": {},
   "outputs": [],
   "source": [
    "#creating a custom dataset for convenience\n",
    "import torch\n",
    "from torch_geometric.data import InMemoryDataset, download_url\n",
    "\n",
    "\n",
    "class ECgraphDataset(InMemoryDataset):\n",
    "    def __init__(self, root='../data/graph', transform=None, pre_transform=None, pre_filter=None,data_list=None):\n",
    "        self.data_list = data_list\n",
    "        super().__init__(root, transform)\n",
    "        self.data, self.slices = torch.load(self.processed_paths[0])\n",
    "\n",
    "    # @property\n",
    "    # def raw_file_names(self):\n",
    "    #     return ['some_file_1', 'some_file_2', ...]\n",
    "\n",
    "    @property\n",
    "    def processed_file_names(self):\n",
    "        return ['data.pt']\n",
    "\n",
    "    # def download(self):\n",
    "    #     # Download to `self.raw_dir`.\n",
    "    #     url = 'https://some_url.com'\n",
    "    #     download_url(url, self.raw_dir)\n",
    "\n",
    "    def process(self):\n",
    "        torch.save(self.collate(self.data_list), self.processed_paths[0])"
   ]
  },
  {
   "cell_type": "code",
   "execution_count": null,
   "metadata": {},
   "outputs": [],
   "source": [
    "graphdata=ECgraphDataset()"
   ]
  }
 ],
 "metadata": {
  "language_info": {
   "name": "python"
  },
  "orig_nbformat": 4
 },
 "nbformat": 4,
 "nbformat_minor": 2
}
