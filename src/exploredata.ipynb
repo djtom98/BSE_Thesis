{
 "cells": [
  {
   "cell_type": "code",
   "execution_count": 1,
   "metadata": {},
   "outputs": [],
   "source": [
    "import pandas as pd\n",
    "import pickle\n"
   ]
  },
  {
   "cell_type": "code",
   "execution_count": 2,
   "metadata": {},
   "outputs": [],
   "source": [
    "dms = pickle.load(open(\"../data/Sentiment_Market_Pharma/daily_market_sentiment.pickle\", \"rb\"))"
   ]
  },
  {
   "cell_type": "code",
   "execution_count": 40,
   "metadata": {},
   "outputs": [
    {
     "name": "stdout",
     "output_type": "stream",
     "text": [
      "/home/djtom/DEV/bse/bse/Thesis/src\n"
     ]
    }
   ],
   "source": [
    "!pwd"
   ]
  },
  {
   "cell_type": "code",
   "execution_count": 3,
   "metadata": {},
   "outputs": [
    {
     "data": {
      "text/html": [
       "<div>\n",
       "<style scoped>\n",
       "    .dataframe tbody tr th:only-of-type {\n",
       "        vertical-align: middle;\n",
       "    }\n",
       "\n",
       "    .dataframe tbody tr th {\n",
       "        vertical-align: top;\n",
       "    }\n",
       "\n",
       "    .dataframe thead th {\n",
       "        text-align: right;\n",
       "    }\n",
       "</style>\n",
       "<table border=\"1\" class=\"dataframe\">\n",
       "  <thead>\n",
       "    <tr style=\"text-align: right;\">\n",
       "      <th></th>\n",
       "      <th>symbol</th>\n",
       "      <th>quarter</th>\n",
       "      <th>year</th>\n",
       "      <th>date</th>\n",
       "      <th>content</th>\n",
       "    </tr>\n",
       "  </thead>\n",
       "  <tbody>\n",
       "    <tr>\n",
       "      <th>0</th>\n",
       "      <td>PFE</td>\n",
       "      <td>4</td>\n",
       "      <td>2007</td>\n",
       "      <td>2008-01-24</td>\n",
       "      <td>Operator: Amal Naj, Head of Development. Pleas...</td>\n",
       "    </tr>\n",
       "    <tr>\n",
       "      <th>0</th>\n",
       "      <td>PFE</td>\n",
       "      <td>3</td>\n",
       "      <td>2007</td>\n",
       "      <td>2007-10-18</td>\n",
       "      <td>Operator: Mr. Amal Naj, Senior VicePresident o...</td>\n",
       "    </tr>\n",
       "    <tr>\n",
       "      <th>0</th>\n",
       "      <td>PFE</td>\n",
       "      <td>2</td>\n",
       "      <td>2007</td>\n",
       "      <td>2007-07-18</td>\n",
       "      <td>Operator: Amal Naj, Head of Investor Relations...</td>\n",
       "    </tr>\n",
       "    <tr>\n",
       "      <th>0</th>\n",
       "      <td>PFE</td>\n",
       "      <td>4</td>\n",
       "      <td>2008</td>\n",
       "      <td>2009-01-28</td>\n",
       "      <td>Operator: Good morning ladies and gentlemen an...</td>\n",
       "    </tr>\n",
       "    <tr>\n",
       "      <th>0</th>\n",
       "      <td>PFE</td>\n",
       "      <td>1</td>\n",
       "      <td>2008</td>\n",
       "      <td>2008-04-17</td>\n",
       "      <td>Operator: Now we have Amal Naj, Head of Invest...</td>\n",
       "    </tr>\n",
       "    <tr>\n",
       "      <th>...</th>\n",
       "      <td>...</td>\n",
       "      <td>...</td>\n",
       "      <td>...</td>\n",
       "      <td>...</td>\n",
       "      <td>...</td>\n",
       "    </tr>\n",
       "    <tr>\n",
       "      <th>0</th>\n",
       "      <td>MRK</td>\n",
       "      <td>4</td>\n",
       "      <td>2020</td>\n",
       "      <td>2021-02-04</td>\n",
       "      <td>Operator: Good morning. My name is Lara, and I...</td>\n",
       "    </tr>\n",
       "    <tr>\n",
       "      <th>0</th>\n",
       "      <td>MRK</td>\n",
       "      <td>1</td>\n",
       "      <td>2021</td>\n",
       "      <td>2021-04-29</td>\n",
       "      <td>Operator: Good morning. My name is Lara, and I...</td>\n",
       "    </tr>\n",
       "    <tr>\n",
       "      <th>0</th>\n",
       "      <td>MRK</td>\n",
       "      <td>2</td>\n",
       "      <td>2021</td>\n",
       "      <td>2021-07-29</td>\n",
       "      <td>Operator: Good morning. My name is Mary Serran...</td>\n",
       "    </tr>\n",
       "    <tr>\n",
       "      <th>0</th>\n",
       "      <td>MRK</td>\n",
       "      <td>3</td>\n",
       "      <td>2021</td>\n",
       "      <td>2021-10-28</td>\n",
       "      <td>Operator: Good morning. My name is Grace Lakra...</td>\n",
       "    </tr>\n",
       "    <tr>\n",
       "      <th>0</th>\n",
       "      <td>MRK</td>\n",
       "      <td>4</td>\n",
       "      <td>2021</td>\n",
       "      <td>2022-02-03</td>\n",
       "      <td>Operator: Good morning. My name is Grace Lakra...</td>\n",
       "    </tr>\n",
       "  </tbody>\n",
       "</table>\n",
       "<p>515 rows × 5 columns</p>\n",
       "</div>"
      ],
      "text/plain": [
       "   symbol  quarter  year        date  \\\n",
       "0     PFE        4  2007  2008-01-24   \n",
       "0     PFE        3  2007  2007-10-18   \n",
       "0     PFE        2  2007  2007-07-18   \n",
       "0     PFE        4  2008  2009-01-28   \n",
       "0     PFE        1  2008  2008-04-17   \n",
       "..    ...      ...   ...         ...   \n",
       "0     MRK        4  2020  2021-02-04   \n",
       "0     MRK        1  2021  2021-04-29   \n",
       "0     MRK        2  2021  2021-07-29   \n",
       "0     MRK        3  2021  2021-10-28   \n",
       "0     MRK        4  2021  2022-02-03   \n",
       "\n",
       "                                              content  \n",
       "0   Operator: Amal Naj, Head of Development. Pleas...  \n",
       "0   Operator: Mr. Amal Naj, Senior VicePresident o...  \n",
       "0   Operator: Amal Naj, Head of Investor Relations...  \n",
       "0   Operator: Good morning ladies and gentlemen an...  \n",
       "0   Operator: Now we have Amal Naj, Head of Invest...  \n",
       "..                                                ...  \n",
       "0   Operator: Good morning. My name is Lara, and I...  \n",
       "0   Operator: Good morning. My name is Lara, and I...  \n",
       "0   Operator: Good morning. My name is Mary Serran...  \n",
       "0   Operator: Good morning. My name is Grace Lakra...  \n",
       "0   Operator: Good morning. My name is Grace Lakra...  \n",
       "\n",
       "[515 rows x 5 columns]"
      ]
     },
     "execution_count": 3,
     "metadata": {},
     "output_type": "execute_result"
    }
   ],
   "source": [
    "ec10=pickle.load(open(\"../data/Sentiment_Market_Pharma/earnings_call_top10_ph.pickle\", \"rb\"))\n",
    "ec10"
   ]
  },
  {
   "cell_type": "code",
   "execution_count": 15,
   "metadata": {},
   "outputs": [
    {
     "data": {
      "text/plain": [
       "2021"
      ]
     },
     "execution_count": 15,
     "metadata": {},
     "output_type": "execute_result"
    }
   ],
   "source": [
    "ec10.year.max()"
   ]
  },
  {
   "cell_type": "code",
   "execution_count": 6,
   "metadata": {},
   "outputs": [
    {
     "data": {
      "text/plain": [
       "MRK     62\n",
       "PFE     59\n",
       "BMY     59\n",
       "JNJ     59\n",
       "LLY     58\n",
       "NVS     51\n",
       "AZN     48\n",
       "NVO     42\n",
       "ROG     41\n",
       "ABBV    36\n",
       "Name: symbol, dtype: int64"
      ]
     },
     "execution_count": 6,
     "metadata": {},
     "output_type": "execute_result"
    }
   ],
   "source": [
    "ec10.symbol.value_counts()"
   ]
  },
  {
   "cell_type": "code",
   "execution_count": 13,
   "metadata": {},
   "outputs": [
    {
     "data": {
      "text/plain": [
       "Timestamp('2022-07-19 00:00:00')"
      ]
     },
     "execution_count": 13,
     "metadata": {},
     "output_type": "execute_result"
    }
   ],
   "source": [
    "mt10.date"
   ]
  },
  {
   "cell_type": "code",
   "execution_count": 11,
   "metadata": {},
   "outputs": [
    {
     "data": {
      "text/html": [
       "<div>\n",
       "<style scoped>\n",
       "    .dataframe tbody tr th:only-of-type {\n",
       "        vertical-align: middle;\n",
       "    }\n",
       "\n",
       "    .dataframe tbody tr th {\n",
       "        vertical-align: top;\n",
       "    }\n",
       "\n",
       "    .dataframe thead th {\n",
       "        text-align: right;\n",
       "    }\n",
       "</style>\n",
       "<table border=\"1\" class=\"dataframe\">\n",
       "  <thead>\n",
       "    <tr style=\"text-align: right;\">\n",
       "      <th></th>\n",
       "      <th>ticker</th>\n",
       "      <th>date</th>\n",
       "      <th>close</th>\n",
       "      <th>volume</th>\n",
       "    </tr>\n",
       "  </thead>\n",
       "  <tbody>\n",
       "    <tr>\n",
       "      <th>1394</th>\n",
       "      <td>ABBV</td>\n",
       "      <td>2017-01-03</td>\n",
       "      <td>62.410000</td>\n",
       "      <td>9328200.0</td>\n",
       "    </tr>\n",
       "    <tr>\n",
       "      <th>1393</th>\n",
       "      <td>ABBV</td>\n",
       "      <td>2017-01-04</td>\n",
       "      <td>63.290001</td>\n",
       "      <td>8674800.0</td>\n",
       "    </tr>\n",
       "    <tr>\n",
       "      <th>1392</th>\n",
       "      <td>ABBV</td>\n",
       "      <td>2017-01-05</td>\n",
       "      <td>63.770001</td>\n",
       "      <td>5359400.0</td>\n",
       "    </tr>\n",
       "    <tr>\n",
       "      <th>1391</th>\n",
       "      <td>ABBV</td>\n",
       "      <td>2017-01-06</td>\n",
       "      <td>63.790001</td>\n",
       "      <td>4722300.0</td>\n",
       "    </tr>\n",
       "    <tr>\n",
       "      <th>1390</th>\n",
       "      <td>ABBV</td>\n",
       "      <td>2017-01-09</td>\n",
       "      <td>64.209999</td>\n",
       "      <td>8794500.0</td>\n",
       "    </tr>\n",
       "    <tr>\n",
       "      <th>...</th>\n",
       "      <td>...</td>\n",
       "      <td>...</td>\n",
       "      <td>...</td>\n",
       "      <td>...</td>\n",
       "    </tr>\n",
       "    <tr>\n",
       "      <th>4</th>\n",
       "      <td>ROG</td>\n",
       "      <td>2022-07-13</td>\n",
       "      <td>261.930000</td>\n",
       "      <td>74979.0</td>\n",
       "    </tr>\n",
       "    <tr>\n",
       "      <th>3</th>\n",
       "      <td>ROG</td>\n",
       "      <td>2022-07-14</td>\n",
       "      <td>263.290000</td>\n",
       "      <td>90034.0</td>\n",
       "    </tr>\n",
       "    <tr>\n",
       "      <th>2</th>\n",
       "      <td>ROG</td>\n",
       "      <td>2022-07-15</td>\n",
       "      <td>264.000000</td>\n",
       "      <td>130208.0</td>\n",
       "    </tr>\n",
       "    <tr>\n",
       "      <th>1</th>\n",
       "      <td>ROG</td>\n",
       "      <td>2022-07-18</td>\n",
       "      <td>263.530000</td>\n",
       "      <td>111222.0</td>\n",
       "    </tr>\n",
       "    <tr>\n",
       "      <th>0</th>\n",
       "      <td>ROG</td>\n",
       "      <td>2022-07-19</td>\n",
       "      <td>266.010000</td>\n",
       "      <td>118708.0</td>\n",
       "    </tr>\n",
       "  </tbody>\n",
       "</table>\n",
       "<p>13950 rows × 4 columns</p>\n",
       "</div>"
      ],
      "text/plain": [
       "     ticker       date       close     volume\n",
       "1394   ABBV 2017-01-03   62.410000  9328200.0\n",
       "1393   ABBV 2017-01-04   63.290001  8674800.0\n",
       "1392   ABBV 2017-01-05   63.770001  5359400.0\n",
       "1391   ABBV 2017-01-06   63.790001  4722300.0\n",
       "1390   ABBV 2017-01-09   64.209999  8794500.0\n",
       "...     ...        ...         ...        ...\n",
       "4       ROG 2022-07-13  261.930000    74979.0\n",
       "3       ROG 2022-07-14  263.290000    90034.0\n",
       "2       ROG 2022-07-15  264.000000   130208.0\n",
       "1       ROG 2022-07-18  263.530000   111222.0\n",
       "0       ROG 2022-07-19  266.010000   118708.0\n",
       "\n",
       "[13950 rows x 4 columns]"
      ]
     },
     "execution_count": 11,
     "metadata": {},
     "output_type": "execute_result"
    }
   ],
   "source": [
    "mt10=pickle.load(open(\"../data/Sentiment_Market_Pharma/main_top10_ph.pickle\", \"rb\"))\n",
    "mt10"
   ]
  },
  {
   "cell_type": "code",
   "execution_count": 8,
   "metadata": {},
   "outputs": [
    {
     "data": {
      "text/html": [
       "<div>\n",
       "<style scoped>\n",
       "    .dataframe tbody tr th:only-of-type {\n",
       "        vertical-align: middle;\n",
       "    }\n",
       "\n",
       "    .dataframe tbody tr th {\n",
       "        vertical-align: top;\n",
       "    }\n",
       "\n",
       "    .dataframe thead th {\n",
       "        text-align: right;\n",
       "    }\n",
       "</style>\n",
       "<table border=\"1\" class=\"dataframe\">\n",
       "  <thead>\n",
       "    <tr style=\"text-align: right;\">\n",
       "      <th></th>\n",
       "      <th>date</th>\n",
       "      <th>Negative</th>\n",
       "      <th>Neutral</th>\n",
       "      <th>Positive</th>\n",
       "    </tr>\n",
       "  </thead>\n",
       "  <tbody>\n",
       "    <tr>\n",
       "      <th>0</th>\n",
       "      <td>2018-02-26</td>\n",
       "      <td>0.0</td>\n",
       "      <td>1.0</td>\n",
       "      <td>0.0</td>\n",
       "    </tr>\n",
       "    <tr>\n",
       "      <th>0</th>\n",
       "      <td>2021-03-19</td>\n",
       "      <td>31.0</td>\n",
       "      <td>35.0</td>\n",
       "      <td>32.0</td>\n",
       "    </tr>\n",
       "    <tr>\n",
       "      <th>1</th>\n",
       "      <td>2021-03-18</td>\n",
       "      <td>43.0</td>\n",
       "      <td>43.0</td>\n",
       "      <td>34.0</td>\n",
       "    </tr>\n",
       "    <tr>\n",
       "      <th>2</th>\n",
       "      <td>2021-03-17</td>\n",
       "      <td>34.0</td>\n",
       "      <td>67.0</td>\n",
       "      <td>44.0</td>\n",
       "    </tr>\n",
       "    <tr>\n",
       "      <th>3</th>\n",
       "      <td>2021-03-16</td>\n",
       "      <td>44.0</td>\n",
       "      <td>55.0</td>\n",
       "      <td>36.0</td>\n",
       "    </tr>\n",
       "    <tr>\n",
       "      <th>...</th>\n",
       "      <td>...</td>\n",
       "      <td>...</td>\n",
       "      <td>...</td>\n",
       "      <td>...</td>\n",
       "    </tr>\n",
       "    <tr>\n",
       "      <th>44</th>\n",
       "      <td>2022-01-12</td>\n",
       "      <td>42.0</td>\n",
       "      <td>52.0</td>\n",
       "      <td>45.0</td>\n",
       "    </tr>\n",
       "    <tr>\n",
       "      <th>45</th>\n",
       "      <td>2022-01-11</td>\n",
       "      <td>39.0</td>\n",
       "      <td>60.0</td>\n",
       "      <td>31.0</td>\n",
       "    </tr>\n",
       "    <tr>\n",
       "      <th>46</th>\n",
       "      <td>2022-01-10</td>\n",
       "      <td>67.0</td>\n",
       "      <td>58.0</td>\n",
       "      <td>35.0</td>\n",
       "    </tr>\n",
       "    <tr>\n",
       "      <th>47</th>\n",
       "      <td>2022-01-09</td>\n",
       "      <td>6.0</td>\n",
       "      <td>16.0</td>\n",
       "      <td>1.0</td>\n",
       "    </tr>\n",
       "    <tr>\n",
       "      <th>48</th>\n",
       "      <td>2022-01-08</td>\n",
       "      <td>5.0</td>\n",
       "      <td>4.0</td>\n",
       "      <td>0.0</td>\n",
       "    </tr>\n",
       "  </tbody>\n",
       "</table>\n",
       "<p>1146 rows × 4 columns</p>\n",
       "</div>"
      ],
      "text/plain": [
       "          date  Negative  Neutral  Positive\n",
       "0   2018-02-26       0.0      1.0       0.0\n",
       "0   2021-03-19      31.0     35.0      32.0\n",
       "1   2021-03-18      43.0     43.0      34.0\n",
       "2   2021-03-17      34.0     67.0      44.0\n",
       "3   2021-03-16      44.0     55.0      36.0\n",
       "..         ...       ...      ...       ...\n",
       "44  2022-01-12      42.0     52.0      45.0\n",
       "45  2022-01-11      39.0     60.0      31.0\n",
       "46  2022-01-10      67.0     58.0      35.0\n",
       "47  2022-01-09       6.0     16.0       1.0\n",
       "48  2022-01-08       5.0      4.0       0.0\n",
       "\n",
       "[1146 rows x 4 columns]"
      ]
     },
     "execution_count": 8,
     "metadata": {},
     "output_type": "execute_result"
    }
   ],
   "source": [
    "dailyms=pickle.load(open(\"../data/Sentiment_Market_Pharma/daily_market_sentiment.pickle\", \"rb\"))\n",
    "dailyms"
   ]
  },
  {
   "cell_type": "code",
   "execution_count": null,
   "metadata": {},
   "outputs": [],
   "source": []
  },
  {
   "cell_type": "code",
   "execution_count": 17,
   "metadata": {},
   "outputs": [],
   "source": [
    "metadata=pickle.load(open(\"../data/Sentiment_Market_Pharma/press_release_top10_ph.pickle\", \"rb\"))"
   ]
  },
  {
   "cell_type": "code",
   "execution_count": 32,
   "metadata": {},
   "outputs": [],
   "source": [
    "mdf=pd.DataFrame(metadata)"
   ]
  },
  {
   "cell_type": "code",
   "execution_count": 42,
   "metadata": {},
   "outputs": [
    {
     "data": {
      "text/plain": [
       "0    PFIZER NAMES DAVID M. DENTON CHIEF FINANCIAL O...\n",
       "0         PFIZER DECLARES SECOND-QUARTER 2021 DIVIDEND\n",
       "0    PFIZER SAYS TRIAL OF IBRANCE IN BREAST CANCER ...\n",
       "0        NOVO NORDISK A/S – SHARE REPURCHASE PROGRAMME\n",
       "0        NOVO NORDISK A/S – SHARE REPURCHASE PROGRAMME\n",
       "0    NEOADJUVANT OPDIVO (NIVOLUMAB) WITH CHEMOTHERA...\n",
       "0    U.S. FOOD AND DRUG ADMINISTRATION APPROVES BRI...\n",
       "0    BRISTOL-MYERS TRIAL TO TREAT ANEMIA IN RARE BL...\n",
       "0    JOHNSON & JOHNSON TO PARTICIPATE IN THE BOFA S...\n",
       "0    CILAG HOLDING ANNOUNCES PROPOSED OFFERING OF U...\n",
       "0    ROGERS' SHAREHOLDERS APPROVE ACQUISITION BY DU...\n",
       "0    HARBOUR BIOMED ANNOUNCES GLOBAL OUT-LICENSE AG...\n",
       "0                        ASTRAZENECA SHAREHOLDER ALERT\n",
       "0    FDA APPROVES NOVARTIS VIJOICE® (ALPELISIB) AS ...\n",
       "0    LILLY'S LEBRIKIZUMAB COMBINED WITH TOPICAL COR...\n",
       "0    LILLY COLLABORATES INTERNATIONALLY WITH LEADIN...\n",
       "0    SHANGHAI JUNSHI BIOSCIENCES ENTERS AGREEMENT W...\n",
       "0    INVESTOR ALERT: LAW OFFICES OF HOWARD G. SMITH...\n",
       "0    NEW DATA SHOWS ABBVIE'S VENCLYXTO®/VENCLEXTA® ...\n",
       "0    ABBVIE INC. PRESENTS AT SOUTHEAST BIO INVESTOR...\n",
       "0    MERCK ANNOUNCES U.S. FDA HAS GRANTED BREAKTHRO...\n",
       "0    VERQUVO® (VERICIGUAT) APPROVED IN THE EUROPEAN...\n",
       "0    FDA GRANTS PRIORITY REVIEW TO MERCK'S NEW DRUG...\n",
       "Name: title, dtype: object"
      ]
     },
     "execution_count": 42,
     "metadata": {},
     "output_type": "execute_result"
    }
   ],
   "source": [
    "mdf.title[0]"
   ]
  },
  {
   "cell_type": "code",
   "execution_count": null,
   "metadata": {},
   "outputs": [],
   "source": []
  }
 ],
 "metadata": {
  "kernelspec": {
   "display_name": "thesis",
   "language": "python",
   "name": "python3"
  },
  "language_info": {
   "codemirror_mode": {
    "name": "ipython",
    "version": 3
   },
   "file_extension": ".py",
   "mimetype": "text/x-python",
   "name": "python",
   "nbconvert_exporter": "python",
   "pygments_lexer": "ipython3",
   "version": "3.9.7"
  },
  "orig_nbformat": 4
 },
 "nbformat": 4,
 "nbformat_minor": 2
}
