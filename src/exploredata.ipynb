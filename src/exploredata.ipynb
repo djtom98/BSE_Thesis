{
 "cells": [
  {
   "cell_type": "code",
   "execution_count": 2,
   "metadata": {},
   "outputs": [],
   "source": [
    "import pandas as pd\n",
    "import pickle\n",
    "# import numpy as np # linear algebra\n",
    "# # import pandas as pd # data processing, CSV file I/O (e.g. pd.read_csv)\n",
    "# import seaborn as sns\n",
    "# import matplotlib.pyplot as plt\n",
    "# from scipy.stats import spearmanr\n",
    "import matplotlib.pyplot as plt\n",
    "import seaborn as sns\n",
    "import numpy as np\n",
    "from scipy.stats import norm\n",
    "from sklearn.preprocessing import StandardScaler\n",
    "from scipy import stats\n",
    "import warnings\n",
    "warnings.filterwarnings('ignore')\n",
    "%matplotlib inline\n"
   ]
  },
  {
   "attachments": {},
   "cell_type": "markdown",
   "metadata": {},
   "source": [
    "# Earnings calls reports: \n",
    "This is obtained from Financial Modeling Prep API, and has an initial presentation by the CEO(manager), followed by questions by the analyst."
   ]
  },
  {
   "cell_type": "code",
   "execution_count": 3,
   "metadata": {},
   "outputs": [],
   "source": [
    "ec10=pickle.load(open(\"../data/Sentiment_Market_Pharma/earnings_call_top10_ph.pickle\", \"rb\"))\n",
    "ec10=ec10.reset_index()"
   ]
  },
  {
   "cell_type": "code",
   "execution_count": 4,
   "metadata": {},
   "outputs": [
    {
     "data": {
      "text/html": [
       "<div>\n",
       "<style scoped>\n",
       "    .dataframe tbody tr th:only-of-type {\n",
       "        vertical-align: middle;\n",
       "    }\n",
       "\n",
       "    .dataframe tbody tr th {\n",
       "        vertical-align: top;\n",
       "    }\n",
       "\n",
       "    .dataframe thead th {\n",
       "        text-align: right;\n",
       "    }\n",
       "</style>\n",
       "<table border=\"1\" class=\"dataframe\">\n",
       "  <thead>\n",
       "    <tr style=\"text-align: right;\">\n",
       "      <th></th>\n",
       "      <th>index</th>\n",
       "      <th>symbol</th>\n",
       "      <th>quarter</th>\n",
       "      <th>year</th>\n",
       "      <th>date</th>\n",
       "      <th>content</th>\n",
       "    </tr>\n",
       "  </thead>\n",
       "  <tbody>\n",
       "    <tr>\n",
       "      <th>0</th>\n",
       "      <td>0</td>\n",
       "      <td>PFE</td>\n",
       "      <td>4</td>\n",
       "      <td>2007</td>\n",
       "      <td>2008-01-24</td>\n",
       "      <td>Operator: Amal Naj, Head of Development. Pleas...</td>\n",
       "    </tr>\n",
       "    <tr>\n",
       "      <th>1</th>\n",
       "      <td>0</td>\n",
       "      <td>PFE</td>\n",
       "      <td>3</td>\n",
       "      <td>2007</td>\n",
       "      <td>2007-10-18</td>\n",
       "      <td>Operator: Mr. Amal Naj, Senior VicePresident o...</td>\n",
       "    </tr>\n",
       "    <tr>\n",
       "      <th>2</th>\n",
       "      <td>0</td>\n",
       "      <td>PFE</td>\n",
       "      <td>2</td>\n",
       "      <td>2007</td>\n",
       "      <td>2007-07-18</td>\n",
       "      <td>Operator: Amal Naj, Head of Investor Relations...</td>\n",
       "    </tr>\n",
       "    <tr>\n",
       "      <th>3</th>\n",
       "      <td>0</td>\n",
       "      <td>PFE</td>\n",
       "      <td>4</td>\n",
       "      <td>2008</td>\n",
       "      <td>2009-01-28</td>\n",
       "      <td>Operator: Good morning ladies and gentlemen an...</td>\n",
       "    </tr>\n",
       "    <tr>\n",
       "      <th>4</th>\n",
       "      <td>0</td>\n",
       "      <td>PFE</td>\n",
       "      <td>1</td>\n",
       "      <td>2008</td>\n",
       "      <td>2008-04-17</td>\n",
       "      <td>Operator: Now we have Amal Naj, Head of Invest...</td>\n",
       "    </tr>\n",
       "    <tr>\n",
       "      <th>...</th>\n",
       "      <td>...</td>\n",
       "      <td>...</td>\n",
       "      <td>...</td>\n",
       "      <td>...</td>\n",
       "      <td>...</td>\n",
       "      <td>...</td>\n",
       "    </tr>\n",
       "    <tr>\n",
       "      <th>510</th>\n",
       "      <td>0</td>\n",
       "      <td>MRK</td>\n",
       "      <td>4</td>\n",
       "      <td>2020</td>\n",
       "      <td>2021-02-04</td>\n",
       "      <td>Operator: Good morning. My name is Lara, and I...</td>\n",
       "    </tr>\n",
       "    <tr>\n",
       "      <th>511</th>\n",
       "      <td>0</td>\n",
       "      <td>MRK</td>\n",
       "      <td>1</td>\n",
       "      <td>2021</td>\n",
       "      <td>2021-04-29</td>\n",
       "      <td>Operator: Good morning. My name is Lara, and I...</td>\n",
       "    </tr>\n",
       "    <tr>\n",
       "      <th>512</th>\n",
       "      <td>0</td>\n",
       "      <td>MRK</td>\n",
       "      <td>2</td>\n",
       "      <td>2021</td>\n",
       "      <td>2021-07-29</td>\n",
       "      <td>Operator: Good morning. My name is Mary Serran...</td>\n",
       "    </tr>\n",
       "    <tr>\n",
       "      <th>513</th>\n",
       "      <td>0</td>\n",
       "      <td>MRK</td>\n",
       "      <td>3</td>\n",
       "      <td>2021</td>\n",
       "      <td>2021-10-28</td>\n",
       "      <td>Operator: Good morning. My name is Grace Lakra...</td>\n",
       "    </tr>\n",
       "    <tr>\n",
       "      <th>514</th>\n",
       "      <td>0</td>\n",
       "      <td>MRK</td>\n",
       "      <td>4</td>\n",
       "      <td>2021</td>\n",
       "      <td>2022-02-03</td>\n",
       "      <td>Operator: Good morning. My name is Grace Lakra...</td>\n",
       "    </tr>\n",
       "  </tbody>\n",
       "</table>\n",
       "<p>515 rows × 6 columns</p>\n",
       "</div>"
      ],
      "text/plain": [
       "     index symbol  quarter  year        date  \\\n",
       "0        0    PFE        4  2007  2008-01-24   \n",
       "1        0    PFE        3  2007  2007-10-18   \n",
       "2        0    PFE        2  2007  2007-07-18   \n",
       "3        0    PFE        4  2008  2009-01-28   \n",
       "4        0    PFE        1  2008  2008-04-17   \n",
       "..     ...    ...      ...   ...         ...   \n",
       "510      0    MRK        4  2020  2021-02-04   \n",
       "511      0    MRK        1  2021  2021-04-29   \n",
       "512      0    MRK        2  2021  2021-07-29   \n",
       "513      0    MRK        3  2021  2021-10-28   \n",
       "514      0    MRK        4  2021  2022-02-03   \n",
       "\n",
       "                                               content  \n",
       "0    Operator: Amal Naj, Head of Development. Pleas...  \n",
       "1    Operator: Mr. Amal Naj, Senior VicePresident o...  \n",
       "2    Operator: Amal Naj, Head of Investor Relations...  \n",
       "3    Operator: Good morning ladies and gentlemen an...  \n",
       "4    Operator: Now we have Amal Naj, Head of Invest...  \n",
       "..                                                 ...  \n",
       "510  Operator: Good morning. My name is Lara, and I...  \n",
       "511  Operator: Good morning. My name is Lara, and I...  \n",
       "512  Operator: Good morning. My name is Mary Serran...  \n",
       "513  Operator: Good morning. My name is Grace Lakra...  \n",
       "514  Operator: Good morning. My name is Grace Lakra...  \n",
       "\n",
       "[515 rows x 6 columns]"
      ]
     },
     "execution_count": 4,
     "metadata": {},
     "output_type": "execute_result"
    }
   ],
   "source": [
    "ec10"
   ]
  },
  {
   "cell_type": "code",
   "execution_count": 5,
   "metadata": {},
   "outputs": [
    {
     "data": {
      "text/plain": [
       "MRK     62\n",
       "PFE     59\n",
       "BMY     59\n",
       "JNJ     59\n",
       "LLY     58\n",
       "NVS     51\n",
       "AZN     48\n",
       "NVO     42\n",
       "ROG     41\n",
       "ABBV    36\n",
       "Name: symbol, dtype: int64"
      ]
     },
     "execution_count": 5,
     "metadata": {},
     "output_type": "execute_result"
    }
   ],
   "source": [
    "ec10.symbol.value_counts()#.sort_index()"
   ]
  },
  {
   "attachments": {},
   "cell_type": "markdown",
   "metadata": {},
   "source": [
    "Looking at earnings calls date statistics."
   ]
  },
  {
   "cell_type": "code",
   "execution_count": 6,
   "metadata": {},
   "outputs": [],
   "source": [
    "def max_min(x):\n",
    "    return x.max() - x.min()\n",
    "\n",
    "max_min.__name__ = 'Max minus Min'"
   ]
  },
  {
   "cell_type": "code",
   "execution_count": 7,
   "metadata": {},
   "outputs": [
    {
     "data": {
      "text/html": [
       "<div>\n",
       "<style scoped>\n",
       "    .dataframe tbody tr th:only-of-type {\n",
       "        vertical-align: middle;\n",
       "    }\n",
       "\n",
       "    .dataframe tbody tr th {\n",
       "        vertical-align: top;\n",
       "    }\n",
       "\n",
       "    .dataframe thead tr th {\n",
       "        text-align: left;\n",
       "    }\n",
       "\n",
       "    .dataframe thead tr:last-of-type th {\n",
       "        text-align: right;\n",
       "    }\n",
       "</style>\n",
       "<table border=\"1\" class=\"dataframe\">\n",
       "  <thead>\n",
       "    <tr>\n",
       "      <th></th>\n",
       "      <th colspan=\"2\" halign=\"left\">date</th>\n",
       "      <th>year</th>\n",
       "    </tr>\n",
       "    <tr>\n",
       "      <th></th>\n",
       "      <th>max</th>\n",
       "      <th>min</th>\n",
       "      <th>Max minus Min</th>\n",
       "    </tr>\n",
       "    <tr>\n",
       "      <th>symbol</th>\n",
       "      <th></th>\n",
       "      <th></th>\n",
       "      <th></th>\n",
       "    </tr>\n",
       "  </thead>\n",
       "  <tbody>\n",
       "    <tr>\n",
       "      <th>ABBV</th>\n",
       "      <td>2022-02-02</td>\n",
       "      <td>2013-04-26</td>\n",
       "      <td>8</td>\n",
       "    </tr>\n",
       "    <tr>\n",
       "      <th>AZN</th>\n",
       "      <td>2022-02-10</td>\n",
       "      <td>2005-11-09</td>\n",
       "      <td>16</td>\n",
       "    </tr>\n",
       "    <tr>\n",
       "      <th>BMY</th>\n",
       "      <td>2022-02-04</td>\n",
       "      <td>2007-07-26</td>\n",
       "      <td>14</td>\n",
       "    </tr>\n",
       "    <tr>\n",
       "      <th>JNJ</th>\n",
       "      <td>2022-01-25</td>\n",
       "      <td>2007-07-17</td>\n",
       "      <td>14</td>\n",
       "    </tr>\n",
       "    <tr>\n",
       "      <th>LLY</th>\n",
       "      <td>2022-02-03</td>\n",
       "      <td>2007-07-25</td>\n",
       "      <td>14</td>\n",
       "    </tr>\n",
       "    <tr>\n",
       "      <th>MRK</th>\n",
       "      <td>2022-02-03</td>\n",
       "      <td>2006-10-20</td>\n",
       "      <td>15</td>\n",
       "    </tr>\n",
       "    <tr>\n",
       "      <th>NVO</th>\n",
       "      <td>2022-02-02</td>\n",
       "      <td>2010-02-02</td>\n",
       "      <td>12</td>\n",
       "    </tr>\n",
       "    <tr>\n",
       "      <th>NVS</th>\n",
       "      <td>2022-02-02</td>\n",
       "      <td>2007-07-17</td>\n",
       "      <td>14</td>\n",
       "    </tr>\n",
       "    <tr>\n",
       "      <th>PFE</th>\n",
       "      <td>2022-02-08</td>\n",
       "      <td>2007-07-18</td>\n",
       "      <td>14</td>\n",
       "    </tr>\n",
       "    <tr>\n",
       "      <th>ROG</th>\n",
       "      <td>2021-07-31</td>\n",
       "      <td>2008-02-21</td>\n",
       "      <td>14</td>\n",
       "    </tr>\n",
       "  </tbody>\n",
       "</table>\n",
       "</div>"
      ],
      "text/plain": [
       "              date                      year\n",
       "               max         min Max minus Min\n",
       "symbol                                      \n",
       "ABBV    2022-02-02  2013-04-26             8\n",
       "AZN     2022-02-10  2005-11-09            16\n",
       "BMY     2022-02-04  2007-07-26            14\n",
       "JNJ     2022-01-25  2007-07-17            14\n",
       "LLY     2022-02-03  2007-07-25            14\n",
       "MRK     2022-02-03  2006-10-20            15\n",
       "NVO     2022-02-02  2010-02-02            12\n",
       "NVS     2022-02-02  2007-07-17            14\n",
       "PFE     2022-02-08  2007-07-18            14\n",
       "ROG     2021-07-31  2008-02-21            14"
      ]
     },
     "execution_count": 7,
     "metadata": {},
     "output_type": "execute_result"
    }
   ],
   "source": [
    "ec10.groupby('symbol').agg({'date':['max','min'],'year':max_min})#,ec10.groupby('symbol')['date'].min()"
   ]
  },
  {
   "cell_type": "code",
   "execution_count": 8,
   "metadata": {},
   "outputs": [
    {
     "data": {
      "text/plain": [
       "['',\n",
       " \"Mr. Amal Naj, Senior VicePresident of Investor Development, you may begin your conference.\\nAmal Naj: Good afternoon, and thank you forjoining our Third Quarter 2007 Analyst Conference Call. I am here with JeffKindler, Chairman and CEO; David Shedlarz, Vice Chairman; Frank D'Amelio, ChiefFinancial Officer and other members of our senior management team. We will first review the resultsof the latest quarter presented in the earnings release issued this morning andavailable on our website. In a change of practice, we will present financialcharts on the call, which can be viewed on our home page at www.pfizer.com. Inthe investor presentations tab by clicking on the link, quarterly corporateperformance third quarter 2007. We'll take questions after thereview of our results. In order to facilitate the maximum number of questions,we would appreciate if you would limit yourself to just one question per personand try submitting, we will come back to you for any follow-up questions youmight have. I would like to remind you, thatour discussions during the conference call will include forward-lookingstatements. Actual results could differ materially from those projected in theforward-looking statements. The factors that could cause actual results todiffer are discussed in Pfizer's 2006 annual report on Form 10-K and in ourreports on Form 10-Q and Form 8-K. Also, the discussions during thiscall will include certain financial measures that were not prepared inaccordance with Generally Accepted Accounting Principles. Reconciliations of thosenon-GAAP financial measures to the most directly comparable GAAP financialmeasures can be found in Pfizer's current report on Form 8-K, dated October 18,2007. These reports are available on our website at www.pfizer.com in theInvestors, SEC filing section. Now, I would like to turn thecall over to Jeff Kindler. Jeff?\\nJeff Kindler: Thanks, Amal and good afternoon,everyone. I would like to welcome Frank to his first earnings call at Pfizer.In just the few weeks that Frank has been here, he's already added tremendousvalue to the company. I'd like to comment briefly onour quarterly results, as well as on some of the steps that we are taking torebuild Pfizer and put the company on the right track for the future. We are continuing to make the toughdecisions and take the right actions that are necessary to address ourchallenges and seize our opportunities. Between now and 2011, we need tocontinue to improve all of the foundational elements of our company and we needto continue to optimize our current performance, even as we focused on thecritical factors necessary to reset the company strategically and rationallywhen Lipitor goes off pattern. There are no quick fixes, butrather a series of actions which break-by-break are putting in place thefoundation we need for a successful future. We're moving with the sense ofurgency, but at the same time, we must be disciplined in how we allocate ourcapital in order to maximize the strategic and financial returns to ourshareholders. With that background, let mehighlight a few important aspects of this quarter. First, our operationalperformance, second, our decision to stop selling Exubera, third, ourcontinuing progress in reducing our cost structure, fourth, our commitment tosubstantially enhance our talent pool by putting strong leaders from inside andoutside the company in key positions, and fifth, our establishment of morefocused and accountable business units to drive improved performance. First, operationally, we had asolid third quarter. We're reconfirming our revenue and adjusted dilutedearnings per share guidance for 2007 and 2008. Indeed, we're raising the lowerend of the ranges we previously provided for revenues and adjusted diluted EPSfor 2007. I think it's worth noting that we'reon track this year to achieve roughly the same revenues as last year and betteradjusted income in last year, despite the loss of exclusivity on two majordrugs, Norvasc and Zoloft, and despite the intense challenges facing ourlargest product. This is due to the strong performance of most of our products’substantial progress in our cost reduction efforts and the benefits offavorable foreign exchange. Our operational performance in myview reflects our insistence on a higher level of focused and accountabilitywithin the company. The advantages of our broadly diversified portfolio and thebenefits of our continued actions to improve productivity, these attributes arean important part of the solid foundation that we are building for the future. With the obvious exception ofExubera, our new products performed very well this quarter. Lyrica grew 37% to $465 million,compared to the same period last year and it has delivered $1.3 billion inrevenues year-to-date. In June, the FDA grantedaccelerated approval to Lyrica for the treatment of fibromyalgia which morethan doubles the potential number of US patients who could benefit from thismedicine. We were in the field in record time to take advantage of thatopportunity. Chantix, our treatment to aidsmoking cessation, continues its strong performance with $241 million inrevenues for the quarter and more than $600 million in revenues year-to-date.Since the August 2006 launch in the US, more than 3.5 million smokershave been prescribed Chantix, and we've just launched a branded advertisingcampaign to build on this momentum. When you consider that there aremany countries in Europe and Asia wheresmoking is still very prevalent, the global opportunities for Chantix aresignificant. For the year-to-date, Celebrex isup 10% worldwide and 7% in the USmarket that is basically flat. Geodon is growing at a rate of two times themarket for atypical antipsychotics. And during the quarter, we launched the newViagra advertising campaign that has generated a lot of interest and positivefeedback from the field. We are also continuing to bringstrong and creative support to Lipitor, which is facing a commercial assaultunprecedented in our industry's history. With new indications in data,advertising, field force support and contracting strategies to optimize Tier 2access, we are fighting back hard against branded and generic competition,focusing on both new patients and the switch market. In the phase of thesechallenges, Lipitor revenues in the quarter were $3.2 billion as compared to$3.3 billion in the third quarter last year. Now, I'd like to address thesecond key aspect of the quarter, our decision to stop further investment inExubera. This decision reflects our strict adherence to three fundamentalprinciples which will continue to guide us going forward. We will be realistic,we will listen to our customers, and we will be very disciplined in how weevaluate both internal and external investments, so that we can put our capitalto work in support of our best opportunities to create shareholder value. Pfizer began the developmentprogram for Exubera in collaboration with Nektar Therapeutics over a decadeago. We launched it in July 2006 and made a major effort to make it successful.But despite the best efforts of our sales, marketing and manufacturingcolleagues, the product has simply not gained the acceptance of patients andphysicians. Accordingly, we will over the next three months, support doctors intransitioning their patients to other medicines, and we will cease furtherinvestments in the development of a second generation device. We will redeploy those colleaguesin sales, marketing, medical and R&D, who have dedicated themselves to thisproduct, to activities that are projected to generate higher returns. Includingimportant late-stage development projects, as well as, stepped up field forcesupport for our inline products. We will phase-out thosemanufacturing activities that have been dedicated to Exubera. There are feweropportunities for redeployment in manufacturing, and we will explorealternatives for sites and employees in consultation with works, councils, andother appropriate bodies. And we will, of course, carefully evaluate whathappened here, in order to ensure that we apply all the lessons learned tofuture product development and marketing. We remain committed to finding anddeveloping new treatments for diabetes, which is an area of enormous unmetmedical need. Our R&D portfolio in thisfield spends the width of the diabetes disease continue, from geneticsusceptibility at birth, to the onset of devastating complications. This isalso an important focus for business development. In addition, we will continue toclosely monitor developments in medical practice and technology as they relateto inhalation therapies and other innovative delivery systems, both for insulinand for other medicines. The third area I'd like tohighlight today is the progress we are making on reducing our cost structure.For this year, cost savings in the selling informational and administrativeexpense component of adjusted income, are ahead of plan. We are now projectinga decrease in these expenses of about $600 million on a constant currencybasis. And we are continuing to take the necessary steps to meet our goal ofreducing our total adjusted cost by at least $1.5 billion to $2 billion by2008, compared to 2006 on a constant currency basis. The process of closing sites likeAnn Arbor in R&D and Brooklyn, Groton and Sandwich inmanufacturing is on track. As these are company wide plants to reduce overallheadcount by 10%. We are making solid progress and putting into place a muchmore flexible cost base that will more easily adapt to our changing businessneeds. And as we do this, we are also placing a very strong emphasis on day in,day out productivity improvements across the entire company. We recently announced that NatRicciardi, who has had significant success in this area as the leader of ourmanufacturing division will lead an intensive enterprise wide focus oncontinuous improvement. The fourth area I'd like tohighlight today is the steps we continue to take to enhance our leadershiptalent. We are continuing to put the best possible people from inside andoutside the company in critical leadership positions. As you know during thisquarter, in addition to bringing Frank D'Amelio to the company, we name MartinMackay, President of Pfizer Global Research and Development. After traveling with Martin toour R&D sites around the world last week, I can tell you that he enjoys thehighest respect of our scientists. They fully understand and support hiscommitment, to striking the right balance between stability where that isappropriate and change where that is necessary. In R&D, as in all ouractivities, we need increased speed and focus, we need to exercise betterdiscipline in picking the right programs to pursue, and we need to allocate ourcapital to disease areas with the strongest commercial potential. Our business development group inclose collaboration with R&D will continue to seek opportunities to bringin high potential programs and products from outside of our labs and ourresearch organization will continue to pursue the best possible scientificopportunities for the future both inside and outside the company. But Martin's single and mostimportant priority is taking the broad array of candidates in our late-stagepipeline and bringing them forward to the market as fast as possible. We have47 compounds in Phase II in very promising therapeutic areas, the most in ourhistory. We believe that we have the opportunity to have more Phase III startsnext year than at any time in our history. Martin will focus in particularon advancing the most promising Phase II compounds, such as our Jak3 inhibitorfor rheumatoid arthritis and IGF-1R, a monoclonal antibody for the potentialtreatment of common malignancies including non-small cell lung, breast,prostate and liver cancer. In another important diseasearea, just this week, our alpha-2-delta compound for the treatment of anxietymoved into Phase 3. Underscoring what we see as our competitive advantage in anarea of science that has produced Neurontin and Lyrica. We've also, as you know, added animportant new dimension to our research capacities by establishing abiotherapeutic and bioinnovation center based in California and led by Dr. Corey Goodman, anenormously talented scientist who enjoys the highest respect of the worldwidescientific community. The center will pursue cutting-edge research that weexpect will generate an additional Corvert of drug candidates to take into theclinic and from there to the marketplace. The fifth and final point I'dlike make this afternoon is that in this quarter, we have continued to see evidencethat the organizational changes that we are making are leading to betterexecution and better results. For example, by breaking our US business into five distinct andmanageable units, led by strong general managers, we've established smaller andmore focused originations, where everyone involved has a clear line of site toresults so they can effect and be held accountable for. The new structures have only beenin place for six months, but it is already showing what it can do with our newproducts like Lyrica and Chantix. And our U.S. field force after a majorreorganization is leading our industry in call volumes, calls per rep, totaldetails and details per rep. So to recap, we are working witha sense of urgency and a single-minded focus to improve every aspect of ourcompany. From the way we work, to the way we make decisions, to the speed withwhich we operate, to the way we allocate our owners capital. These changes andothers are establishing the necessary foundation for our future. They willensure that we continue to improve the way in which we capitalize on top lineopportunities, both internal and external, the way we achieved increasedproductivity and the way that we will continue to improve our performance. Allof this will drive the achievement of our ultimate goals. Putting Pfizer on theright track, helping patients and enhancing the returns we delivered to ourshareholders. And now, I would like to turn itover to Frank D'Amelio\\nFrank D’Amelio: Thanks, Jeff. Good day everyone.Now, to the financial results. The charts that I will be reviewing with you areincluded in our webcast and will help facilitate the discussions of our thirdquarter results. Let me begin with the highlightsof our performance. Today, we posted reported revenues for the third quarter2007 of $12 billion, a 2% decrease from the same quarter of last year. Thedecline reflects the loss of USexclusivity of Zoloft and Norvasc. Zoloft lost US exclusivity in June 2006, a genericcompetition did not enter the marketplace until August of 2006, while Norvasclost U.S.exclusivity in March of 2007, six months earlier than expected. In addition, Lipitor revenuesdeclined modestly, as the product continues to experience intense competitionfrom branded and generic products in the statin market. On a positive note, ourthird quarter revenues were favorably impacted by the strong results of our newproducts, as well as, foreign exchange, which added approximately $300 millionto our top-line. Also from a comparison perspective,in the third quarter of 2006, we had a one-time reversal of the sales deductionaccrual of approximately $170 million. This was due to a favorable developmentand a pricing dispute in US, which we noted in third quarter last year. Our reported net income of $761million was down 77% from last year. Our reported diluted EPS of $0.11 was down76% from last year's $0.46. Adjusted income was $4 billion up 1% from the sameperiod last year and adjusted diluted EPS was up 7% to $0.58 from $0.54 last year.The sharp decline in third quarter 2007 reported net income is primarily aresult of the items impacting revenue that I just described, as well as, $2.8billion of pre-tax charges related to the write-off of intangibles, inventory,and fixed assets associated with exiting Exubera, as well as, the accrual ofother exit costs, which I will discuss in more detail, shortly. Also reported net income andreported diluted EPS were negatively impacted by cost we incurred in connectionwith our cost-reduction initiatives, including restructuring and implementationcost in the creating of more efficient, effective and aligned globalorganization. On an adjusted basis, which hasreported income and diluted EPS, excluding purchase accounting adjustments,acquisition-related cost, discontinued operations, and certain significantitems, our third quarter earnings performance improved despite the revenuedecline given our year-over-year decrease in our total cost, higher interestincome the favorable impact foreign exchange. Adjusted diluted EPS was alsofavorably impacted by our share purchase program. Before moving on, let me pointout several significant items that are included in our reported results for thethird quarter. More detailed disclosures will be provided in our Form 10-Qfiling, to Securities and Exchange Commission. In the third quarter, we incurred$437 million restructuring charges compared to $245 million last year. Thesecosts are primarily associated with employee termination cost and asset impairments.Additionally, we incurred $373 million in implementation cost compared to $182million last year. These costs are primarily associated with our sites thatwill be closing and are recorded in cost of sales, research and development,and SI&A expenses. These are more fully detailed in the supplementalinformation that accompanies the earnings release. Specific cost reductioninitiatives are varied and stand most divisions, functions, markets and sitesacross Pfizer, broad categories of activity, our sales force reductions,manufacturing and research site closures and off-shoring and out-sourcing. We reduced our US sales force by about 20% and areimplementing similar reductions in most markets. Sales force restructuringshave been completed in a host of other markets as well. We have announced the closure ofnine manufacturing plants this year, most recently, Sandwich, England,and six research sites. To-date, all transactions are proceeding according toplan. Additionally, the vast majority of research programs and developmentprojects have been transferred and stabilized to their new location withminimal disruption. All impacted initiatives will be transferred by yearend. Further, a wide array ofoff-shoring and out-sourcing opportunities are in various stages ofimplementation. Manufacturing, logistics, finance, facilities, medical, legaland IT are among the functions pursuing the financial and operation benefits ofthis strategy. Now, on to the $2.8 billion ofpre-tax charges associated with the exit of Exubera, our inhaled insulinproduct. Our Exubera revenue performanceto-date has been disappointing. Our worldwide revenues were $7 billion in thethird quarter 2007 and $12 million year-to-date. The performance of Exubera hasled us to our decision to exit Exubera, which has resulted in pre-tax chargesof $2.8 billion. These charges are comprised to various components, includingapproximately $1.1 billion of intangible assets, from the acquisition of therights to Exubera, $661 million of inventory, $454 million of fixed assets and$584 million of other exit costs. On the income statement, $2.6billion of this charge is included in cost of sales, while the remainder isincluded in revenues, SI&A expenses and R&D expenses. The asset-relatedcharges of approximately $2.2 billion, represents non-cash charges, while theother exit costs will result in future cash expenditures. In the financial schedules,accompanying our earnings release, we have provided our reported financialresults, we have also provided for the first time a reconciliation of reportedresult to our adjusted results on a line-by-line basis. I'd like to now provide furtherinformation on our adjusted results. Adjusted cost of sales as a percent ofrevenues was 15.1% compared to 15.4% in the same quarter of last year. However,for the full year we expect adjusted cost of sales to rise to approximately15.5% of revenues compared with our previous estimates of about 15%. The reasonfor this change is that a greater portion of our revenues and associated costsare being generated in international markets, 52% in the latest quarter versus45% in the same quarter last year. Also, portfolio was shifting to a mix ofproducts with high cost relative to the prior year. Adjusted SI&A expensesdeclined 1% from last year, this reflects our efforts to streamline theorganization and improve operational efficiency. The level of decrease ispartially offset by the unfavorable impact of foreign exchange. For the fullyear on a constant currency basis, we now expect an adjusted SI&A reductionof about $600 million relative to the prior year versus our previous guidanceof greater than $500 million. Adjusted R&D expenses for thethird quarter declined 5% from last year, also due primarily to our efforts toimprove operational efficiency. We continue to project the full year 2007,adjusted R&D expenses to be approximately $7.5 billion. Our effective taxrate on adjusted income for the quarter was approximately 22%, we continue toproject 22% for full year 2007. On a year-to-date basis, many ofthe changes in the first nine months of 2007 compared to 2006 are consistentwith those previously described related to the quarter. Loss of USexclusivity, strong new product growth, the benefits of our efforts tostreamline the organization and improve operational efficiency, increaseinterest income and favorable foreign exchange. Adjusted R&D expenseshowever increased 5% primarily as a result of our collaboration withBristol-Myers Squibb to develop and commercialize apixaban. Adjusted cost of sales increased6% as a result of changing geographic and product mix. I would also like tohighlight the performance of selected products. First Lipitor; Lipitorworldwide revenues for the quarter were down 5% compared to the same periodlast year. Revenues in the USdeclined 13% while revenues in international markets increased 9%. In the US,revenues declined as a result of intense competition and payer pressure. Of the9% increase internationally, 6% is due to the favorable impact to foreignexchange and the remainder to operating growth. Overall we do expect full yearrevenues to fall within the range of 3% to 5% decline in 2006. As you can seeother key in line products posted positive results in the third quartercompared to the same period last year. I would also like to emphasizethe strong growth being delivered by our key new products. Chantix, our smokingcessation treatment posted revenues of $241 million compared with $33 million ayear ago. The revenues of Lyrica, our medicine for the management ofneuropathic pain and mostly recently fibromyalgia increased 37% to $465 millionand revenues of Sutent our product for advance kidney and cancer of thedigestive system were $151 million compared with $63 million last year. Now as to Zoloft and Norvasc, youcan see the short drop in revenues in the third quarter, a 73% drop to Zoloftand a 47% drop in Norvasc, following the loss of US exclusivity. Excluding Zoloftand Norvasc, worldwide pharmaceutical revenues would have increased 5%. As youcan see in our earnings release, we have made some changes in our 2007financial guidance. I've already discussed our 2007 guidance related to Lipitorrevenues, adjusted cost of sales as percentage of revenues, SI&A expensesand R&D expenses. We previously projected revenuesof $47 billion to $48 billion for 2007, we are now improving the range to $47.5billion to $48 billion as we move closer to year end. On reported diluted EPSfor the full year, we previously said $1.30 to $1.41, given the chargesassociated with exiting Exubera, we have now lower the range to $1.01 to $1.10. On adjusted diluted EPS for thefull year, we previously said $2.08 to $2.15. We are now improving the range to$2.10 to $2.15. Guidance remains unchanged for other items, effective tax rateon adjusted income and cash flows from operation. Lastly, in the area of ourstock buyback program, we previously said that we will repurchase up to $10billion of our stock in 2007 and that remains our expectation. To-date, we havepurchased $7.5 billion of our stock in 2007, for a total of approximately 291million shares. Now on to 2008 guidance, ourpreviously issued guidance remains unchanged, except for our target to reduceour adjusted total cost. We previously projected that we would achieve anabsolute cost reduction of at least $1.5 billion to $2 billion compared to2006. We now expect to achieve this target but at constant exchange rates. Thisis reflective of the extent to which our expenses have been adversely impactedby foreign exchange. The strengthening of the euro and of the currenciesrelated to the dollars partially offsetting saving from our cost reductioninitiatives. So to summarize the key takeawaysfor the quarter. We are on track to achieve our 2007 revenue and adjusteddiluted EPS guidance. We have raised the lower end of the range and ourguidance for both 2007 revenues and adjusted diluted EPS. Additionally, we have reaffirmedour 2008 guidance, but have now stated that our 2008 total cost reduction of atleast $1.5 billion to $2 billion as compared to 2006, as a constant exchangerates. We recorded $2.8 billion of pre-tax charges associated with the exit ofExubera. These charges relate to the write-off of certain assets as well as theaccrual of other exit cost, which resulted in at $0.31 reduction and reporteddiluted EPS for the third quarter. Our new products particularlyChantix, Lyrica and Sutent are performing extremely well and our largestproduct Lipitor continues to do well considering the intense competition andpayer pressure. Lastly, on our cost reductioninitiatives, we continue to make progress to reduce our overall cost base andimprove our operational efficiency. We recognize we have made significantprogress to-date and that there is more to do in order to achieve our overallobjectives. With that, I would like to turnit back to Jeff.\\nJeff Kindler: Thank you very much, Frank. Andwe are now ready to take your questions.\\n\",\n",
       " \"Andersonwith SanfordBernstein.\\nTim Anderson: Thank you, I have a couple ofquestions. The first actually it just goes back to your earlier announcement ofthe biotherapeutic center that you are going to establish on the West Coast.And I am wondering if this is going to be a bricks-and-mortar facility. And ifyou actually go so far as make it a research or designate a separate pool offunds with things like acquisition. And then the second question,sorry, if this has too blown, but any comments about Biogenetic being for saleand whether this is something that Pfizer would potentially consider?\\nJeff Kindler: Okay Tim, thank you. First withregards to biotherapeutics, we’re starting with the facility that we alreadyhave in San Francisco called Rinat, which as you may know it was theneuroscience spin-off from Genentech and has really done quite well and we’revery excited about some of the opportunities that we have there and Dr. Goodmanis going to initially start with that base. And we’re in the process developingthe future business plans, but I think you can look forward to creatinghopefully a network of organizations without a significant investment inbricks-and-mortar, because I don't think that will be necessary, and it will bea very integrated approach to business development that involves both whatCorey Goodman is leading, as well as what Martin Mackay, at [Oregon] ourbusiness development group is leading. So, stay tune, I'll be talkingabout further plans as we go forward, but that's how we are starting. And withregard to biogenetic, obviously we don't comment on that kind of speculation,so I won't surprise you in that regard. But, I just have to say, we will alwayskeep eyes and ears open at any means to build our business through alliances,licensing or acquisitions and when the right opportunities present themselves,we will act appropriately. But, we really want to be disciplined in how weallocate our capital and we want to be thoughtful about that and so, we look atall these opportunities from that perspective. We are going to focus first onproduct potential, especially with our gaps in our therapeutic areas. We willfocus secondly on expanding our platform potential, such as new ways to delivertherapies and as I said the most important consideration here is to ensure thatwe deploy our capital in the best possible ways to create opportunities forcreating shareholder value.\\nTim Anderson: Thank you.\\nJeff Kindler: Thank you, Tim.\\n\",\n",
       " \"Your next question comes fromJohn Boris of Bear Stearns.\\nJohn Boris: Yes, good afternoon. Thanks fortaking my questions. To your point Jeff on capital allocation, it appears thatwith 7.5 billion of shares repurchased and are you completing the 10 billionshare repurchase, also with the dividend increases that we've seen over thelast couple of years, I think two years ago, is it 27% increase, 21% increaselast year? And then on business development,can you just take us through how you are thinking about those three elementsgoing forward? And then, I just have a follow-up on some operational questionson Lipitor and Exubera.\\nJeff Kindler: Okay, John. Why don’t I let Frankstart that and we will see if that addresses your question.\\nFrank D'Amelio: Sure, on the dividend, let mestart by saying as a company, we've been committed to total shareholder value.Going forward, we will continue to be committed to total shareholder value. In terms of the numbers, John,let me just run the numbers for you. Two years ago, the dividend was $0.76,this year it $1.16, so it's increased 53% over the last two years. It's 32% in'06, 21% in '07. Going forward, for the '08 dividend, we will announce thatdividend in December of this year for the upcoming year, as it has been ourpractice from the past.\\nJohn Boris: Buybacks?\\nFrank D'Amelio: On buybacks, we announced thisyear a repurchases of up to $10 billion. At the end of the quarter, we haverepurchased $7.5 billion worth of our shares, 291 million shares. We areclearly on a path to achieve up to 10 billion in our repurchases. One again, interms what we’ll do going forward, in January, we’ll announce our 2008 buybackprogram as it has been customary.\\nJeff Kindler: Okay John, your second question?\\nJohn Boris: Yeah, just on operations onExubera. Can you just comment on the sales reps or the detailed effort that youhave behind the brand? And how are you going to be reallocating that importantresource going forward? And then, I think I recall thatthere was a manufacturing facility in Germany that went along with youracquisition of the full rights on Exubera. What are you going to be doing withthat? And then on Lipitor, just on the trends on Lipitor, seems like the fourweek average trends on TRX, the growth is minus 15% if you look at it by dosageform, the 10 mg is declining 19%, 20 mg down 14%, 40 mg is down 7% and 80 mg isup 1%. You’re aggressively doing a lot of direct-to-consumer advertising but itdoesn’t seem to be addressing the growth issue that you have within the US.Can you just talk about when you might be anticipating seeing stabilization ofthose trends in the United  States?\\nJeff Kindler: Okay, let me start with the firstpart of your question and then I'll ask, Ian, to address the Lipitor. We aregoing to redeploy the vast majority of the effected colleagues in commercialmedical and R&D functions, and there will be no reductions in the USfield force. We're going to redeploy people in those groups, I mentioned tosupport projects and products that have, we hope greater commercial potential. Now, in manufacturingopportunities for redeployment are frankly pure and they depend on the ultimaterole for the impacted sites, including the one you mentioned. So, we'll beexploring alternatives for those sites and their employees and consultationwith works councils and other appropriate bodies. Ian, do you want to address thequestions about Lipitor?\\nIan Read: We have been shutting thatfacility.\\nJeff Kindler: As I said we have to look at thatin consultation with works councils.\\nIan Read: Okay. So, I'll give more color onthe Frank's comments on Lipitor, so we were down about 13% in the U.S.On scripts, the pricing and rebates were basically a watch given the fact thatwe had a favorable settlement in the third quarter of '06, which basicallyoffset our favorable pricing of impact for quarter. If you're looking at Lipitor, Ithink you got to just look back and discuss how we look at the market, how wesee what's happening and on the switch loss, we appear to stabilize that atabout 50% below the peak, post the advent of multi-generic simvastatin, infact, we are now at the pre-multi-simvastatin level. New patient population isfluctuating or new patient volume is fluctuating around to a 20% share. I liketo indicate I feel we are very competitive, against the brand of statins inthis marketplace. And our access remained strong, our access remains in therange of 65 to 70 at Tier 2 across commercial and medicare lives. And we see themarket while slowing up from 12 to plus growth to about high single-digitscoming out of this year and I see that being maintained in '08. So, our strategy is to continueusing our commercial resources to folks on the switch, the new patients andmaintaining access. And as you noted, those strategies are being appliedagainst on the professional platform to differentiate Lipitor on the efficacyacross the dosage range, it's safety and outcomes, a very strong DTC programusing print and using the (inaudible) ad, which is one of our best ads forLipitor. We are also looking at using those resources and targeting those siteswhere we see the most activity on generic switching. And we are also usingrelated things like value cards to deal with co-pays. And that's theenvironment we see going forward for Lipitor.\\nJeff Kindler: Thanks Ian. Next question,please.\\n\",\n",
       " \"Your next question comes fromJami Rubin of Morgan Stanley.\\nJami Rubin: Thank you. I've got a fewquestions. Frank, this might be unfair since you are still new. But based onthe guidance next year, which doesn't appear to have meaningfully changed atall. The expectation for cost reduction of $1.5 billion to $2 billion hasn'tchanged and you've given a pretty wide range of EPS and a relatively wide rangein terms of the top line. But if I assume sort of a middle of the range onrevenues, I've got to assume a significant decline in both SG&A and R&Djust to get to the bottom end of the range next year. I appreciate you can't give a lotof detail yet on 2008, but you have offered this guidance. Am I thinkingdirectionally in the right way that we haven't seen yet big year-over-yeardeclines in those expense areas? And again just to get to the lower end of therange, I've got to assume big year-over-year declines. That's my first myquestion. Second question is, justinterested in the Exubera announcement today. You are also disbanding yourresearch on second generation Exubera, which I thought was interesting. And Iam wondering if you could comment on, why are you stopping development in thesecond generation insulin device? And it seems to me that one of the biggestissues was the device itself. The second generation device was a nifty littlething that should be an easier sell. And I am just wondering if you couldcomment on why you've chosen to scrap the whole development plan. If you thinkit's more than just a device, if it has to do with just the overall acceptancesof pulmonary insulin. And my third question relates to anupdate on the Lipitor 993 patent. If you could tell us where that fits now atthe Patent and Trade Office. Thanks.\\nJeff Kindler: Okay. Thanks Jami. We are doinggreat on our one question per --\\nJami Rubin: Sorry.\\nJeff Kindler: Here, but they are all goodquestions. So, I'll let Frank take the first, Ian take the second and AllenWaxman will take the third.\\nFrank D'Amelio: Let me address the firstquestion. I know you are focusing on the level of cost reduction for '08. Letme start with '07, and then what I'll do is, after I start with '07, gives somestatistics, I'll bridge to '08 and then I'll try to frame that into the overall'08 guidance. We are making good progress onour cost reduction initiatives. In fact, in SI&A in 2007, we increased theguidance from $500 million to $600 million. That was the SI&A element ofoverall cost only. If you thinkabout some of the things we are doing, just operationally to demonstrateprogress, you can bucket most of our cost reduction initiatives into fivecategories. Field force reductions, manufacturing site closures, research siteclosures, outsourcing and offshoring. Let me just give you one statistic oneach and then I will move on to 2008. In the fieldforce, as I mentioned before, we’ve implemented 20% reductions in the US and similar reductions in many marketsoutside of the US.In manufacturing of sites alone, we’ve announced nine exits this year. InR&D, we’ve announced six exits. In terms of outsourcing, we have outsourcedsome of our IT operations. In terms of outsourcing and offshoring, we’veoutsourced and offshored some of our financial back office operations. It's amacro statistic. At the end of last year, we had 98,000 employees. We hadannounced the 10,000 employee reduction at the end of this past quarter we hadabout 87,000. So, I frame that just to give you a feel for we are making a lotof progress relative to the area of cost reduction. Now let's takethat and move into 2008. We have, I'll call it, a relatively wide range outthere for 2008. But in terms of where we fall in the range, there is a lot ofmoving parts still relative to 2008. We are still very much in our planningprocess. We are comfortable enough at a macro level to reaffirm the guidancewe’ve provided on the various elements. We updated or slightly modified the$1.5 billion to $2 billion at constant currency, given some of the things thatare going on with the dollar relative to other currencies. But I think we’vereaffirmed the range. We’ve reaffirmed the guidance. We’ve got some ranges outthere and we’ll be back in January to update the guidance.\\nJeff Kindler: Thanks Frank. Ian do you want totalk about the second generation, please.\\nIan Read: Well, Jami, I think to yourquestion, when we look at the marketplace, there are two barriers I think weclearly underestimated. The barrier to moving patients with the physiciancommunity earlier to Exubera. And I think this is one of the major issues thatwe underestimated. The resistance from physicians and patients to going on toinsulin in any form earlier than they have been to-date. So, that is one majorbarrier. The second one is per se, the burden that the Exubera technologyrepresented to the practice, which went from the lung function testing, thetraining on the device, and while the size of device may be a component ofthat, I think you have to look at the totality of it. And that's what led us toa decision to exit.\\nJeff Kindler: Okay. Thank you, Ian. Allen doyou want to talk about the patent?\\nAllen Waxman: Thanks, Jeff. Jami, you referredto the 993, I assume you completing the 995 and 893, actually both are beforethe Patent office as we speak. I think you may know in August, we receivedcomments from the Patent office on 995 enantiomer patent that was in the formof an initial rejection which is typically the way these things come out. Wehave filed a respond to those comments and that will continue to work its waythrough the Patent office over the next year, 18 months. It can be a lengthyprocess. The 893 is the subject of areexamination request by a law firm associated with Ranbaxy. That request hasbeen granted as the norm and we will wait to hear from the Patent office. Andagain, typically a response can be in the form of an initial rejection of someof the claims. We will have an opportunity to respond to that and that will toowork its way through the Patent office and what can be a lengthy process.\\nJeff Kindler: Thanks Allen. Next questionplease.\\n\",\n",
       " \"Your next question comes from SteveScala of Cowen.\\nSteve Scala: Thank you. How would youcharacterize generics Simvastatin relative to its ultimate market share? Do youfeel that's nearly full penetrated, 50% penetrated, or some other estimate? Andwithin your overall 2008 P&L guidance, what are the expectation forLipitor's trend and then lastly giving the apparent success of your competitorsin developing a CETP inhibitor without hypertension, are you reconsideringstarting your efforts on your follow-ons towards atropine? Thank you.\\nJeff Kindler: I will ask Ian to answer thefirst two questions and Mart Mackay will answer the third.\\nIan Read: So, I will take the second partfirst which is Lipitor inside the overall business. When we look at theguidance we gave on the revenue, we looked at a lot of our major products andwe talked about the opportunities and challenges of those products to get tothe macro-levels. So, I think we expressed our judgment, we reflect thatthrough the balance of all of the portfolio. On Simvastatin either we have gota year and a half, we are coming up to the year review. I am seeing a sort ofat least on the access side, a stabilization of our access, I think we got tolook at how Lipitor continuous to be competitive against Crestor and Vytorin andwe'll see how it goes forward, may be as Simvastatin will continue to make somefurther marginal gains, but it's going to be via some market pressure and notmajor contracting changes.\\nJeff Kindler: Thank you, Ian. Martin, CETPInhibitors\\nMartin Mackay: Just a briefly, Steve, goodafternoon. We are still currently reviewing the prospect of daytime goingthrough that, carefully we will present, some of this work at the AmericanHeart Association, in November and layout the studies that we have done in thatregard. We have no plans at this stage to begin our -- restart our CETPInhibitor program, until we have thoroughly reviewed all those results andobviously I can't comment on the [med] programs.\\nJeff Kindler: Thanks Martin, next questionplease.\\n\",\n",
       " \"Your next question comes fromDavid Risinger of Merill Lynch.\\nDavid Risinger: Thanks very much.\\nJeff Kindler: Is that same person as DavidRisinger.\\nDavid Risinger: Yeah, thank you. So, I'll justkeep it to two questions. First in terms of the losses on Exebura, obviouslydropping Exubera will be accretive. Is there anyway Frank that you can framefor us, how accretive it will be for you to drop Exubera? And second, I washoping that you could talk about your biotech and vaccine transaction agenda.This is something that Pfizer has talked about for a long time, there have beenrelatively few transactions to date and I believe that Pfizer's commitment isstill there but in the mean time acquisition target prices are rising and so ithad be helpful for you, Jeff to maybe address that.\\nJeff Kindler: Okay, thanks. Frank, go ahead.\\nFrank D'Amelio: On the first part of thatquestion I think the simplest way to think about this is Exubera sales for theyear were very, very modest. As I mentioned, $7 million in the quarter, $12million year-to-date, so really no impact on our margins.\\nJeff Kindler: Okay. Dave, with regard tobiotherapeutics clearly you're right, the deal environment is challenging,there is a relatively finite number of assets, especially in the later stagesand the prices are clearly quite high. We feel that there is still a lot ofopportunities out there if we take a thought on disciplined approach to it andpossibly through creative deal structures in the like. Obviously, I’m not goingto comment on any particular transactions we might be considering, but therehas been activity in that area and there will continue to be and we have tostrike the balance between our desire and need to supplement our internalportfolio, which we've clearly recognized. But at the same time exercisediscipline to ensure that we make smart investments that will payoff for theshareholders that's not an easy thing to do in this environment, but we aregoing to keep at it.\\nDavid Risinger: And just a follow-up Frank,obviously in dropping Exubera you're dropping a lot of costs in manufacturingand promotions, so won't that be accretive?\\nFrank D'Amelio: Yeah. So in terms of '07, it'salmost November already, right? So I mean there isn't a whole lot of the fiscalyear left and clearly, decisions and implications were factored into theupdated guidance we gave. In terms of 2008, once again, there are many factorsthat impact the guidance, which is part of why we have the range, we have allof that clearly factored into the update we provided today on 2008.\\nDavid Risinger: Thank you.\\nFrank D'Amelio: Thank you.\\nJeff Kindler: You are welcome. The nextquestion, please.\\n\",\n",
       " \"Your next question comes from RoopeshPatel of UBS.\\nRoopesh Patel: Well, thanks. I have a couple ofquestions on the Celebrex, I'm actually curious about the company's strategy onCelebrex here for the US market in the context of the two price increases takenover the six-month period, totaling 12%. I know that this was highlighted asone product area where you wanted to resume market share growth, are yousatisfied with how things have turned out? And then separately if you couldalso help us claim the opportunity for Celebrex in Japan that would be very helpful?\\nJeff Kindler: Okay. Roopesh I will turn boththose questions over to Ian.\\nIan Read: So, I think you step back andlook at it, Celebrex clearly offers value to patients and that's reflected inthe way we are commercializing the product this year. The market growth isanemic and we are still focused on reestablishing market growth and scriptgrowth for Celebrex. To get to that we need to dealfirst of all with the CV issue and put it in perspective and we are leadingwith that in our discussions with physicians, both with the field force andwith medical-to-medical and through DTC. When we ran the DTC over this issue inthe second quarter, we did see a response in market share. We will be back intothe fourth quarter and the first quarter heavily on this area in DTC to sort ofreestablish to growth trend on scripts for Celebrex. So the strategy still isfocused on reestablishing growth in scripts for Celebrex. Specifically Japan, we're working through indications andregistrations in Japan andwhen that's complete, I think we also have to work through pricing anddepending upon that, we can get to the opportunity in Japan.\\nJeff Kindler: Thanks, Ian next question please.\\n\",\n",
       " \"Your next question comes from GeorgeGrofik of Citigroup.\\nGeorge Grofik: Thanks for taking my question.Looking to 2008, can you give us a sense for the Part D pricing environment,and to what degree you may have seen more pressure on that business relative2007? And secondly, in past several weeks, across the market growth is low tomid single-digit, and can you provide some color on what you believe is causingthat slowdown and what you anticipate will reinvigorate growth in the market toyour expectation of high single-digit? Thank you.\\nJeff Kindler: Thanks, George. I'll let Ian takeboth of those.\\nIan Read: So, George, remind me the firstquestion again. I am sorry.\\nGeorge Grofik: Part D next year.\\nIan Read: Part D, well, I think we havediscussed this on previous calls. Clearly, the land grab was made early on andPart D is becoming more competitive and the negotiations to be morecompetitive. So there is more pressure vis-à-vis the net access and rebase andI expect that to be reflected in '08. And secondly, the question of thesoft market, I don't have any specific data anecdotally from distributors andfrom people we speak to. There maybe an issue of the [Donut Hall] and someresistance as seniors get close to that, may be causing a slow up. So, we would-- my belief is that, we can expect high single-digits for the statin market in'08.\\nJeff Kindler: Thank you. George, next questionplease.\\n\",\n",
       " \"Your next question comes fromTony Butler of Lehman Brothers.\\nTony Butler: Thanks very much. Jeff, just alittle bit of a macro question and that is having been in the seat now forroughly 13 months, you have been very rapid for some change. In your managementteam you've been very rapid to execute some costs reduction and in my opinion weused to refocus the culture at Pfizer over that span of time. What's the next12 months holding for you and what are your true objectives over this veryfinite period of time, if you could? Thanks.\\nJeff Kindler: Well, thanks Tony. I think that'sa great question. I am glad that you asked it. I think, well I'd start bysaying is that when I started in this job and our current team start in thisjob, it was very clear to us that this business needed to be fixed in a lot ofways. We needed to get down to thefoundation of this company and rebuild some basic elements of itbrick-by-brick. I would say, just to use as examples, four big areas that we'vebeen addressing, with a great deal of intensity, are pursuable, focus andaccountability that required both changes in the culture but alsoorganizational changes that I've talked a lot about. Second, improving our leadershipcadre which I have talked about. Third, a disciplined approach tocapital allocation and prioritizing our investments. Starting to get into thehabit of understanding that we can't do all things to all people, we can't doeverything we'd like to do and we have to focus our investments where theyprovide the greatest opportunities, that's a bit of a change for us quitefrankly. And fourth, improving our costbase, making it more flexible and instilling the culture productivity, all ofthis is foundational. I think, we've made a lot of progress but I will say Idon't think we're by any means done and we have a lot more to do in this regard. And in order to establishourselves for the future, we have to have the foundation right. This is toughwork and there are  no quick fixes. Ithink we're making a lot of progress as I have said but we need to keep going.We all know very well that we face in 2011 loss of exclusivity on the largestproduct in the history of pharmaceutical industry and that we have to be, whilewe are fixing the foundation of this business, while we are improving ouroperational performance, we have to be thinking about, not just thinking about,but taking actions to prepare ourselves for that time. To reset the companystrategically to really push our late stage pipeline, to provide real focus onthe value that's in that pipeline, to continue with focus on aggressive businessdevelopment. To see whether we can get more out of our mature products, which Ithink is an opportunity to focus on parts of the world like Asia, where thereare tremendous opportunities, we need to continue to do, to looking forcomplementary products and technologies that can enhance the value of ourofferings, and we are going to focus on all of these on multiple fronts. So, over the next year and in thenext month, so I think you will see continued activity across all those areasthat I have listed. There isn't a magic bullet here. There isn't a singlesolution that one day we are going to open the curtain and unveil, and I amsorry people find that disappointing. We are very focused on building afoundation for success, optimizing our current performance, and doingeverything we need to do to prepare the company for the Lipitor to elevate.\\nTony Butler: Thanks Jeff.\\nJeff Kindler: Next question please.\\n\",\n",
       " \"Your next question comes fromChris Schott of Banc of America.\\nChris Schott: Great. Thanks. Just two quickquestions. May be first with regards to the Lipitor franchise. Without anatural follow on the cholesterol business with 10 mg under pressure, it is2008 or 2009, too early to start thinking about pulling back resources fromthat product or just still from your perspective a good investment even withthe decline given that we kind of our heading towards that, I think I justmentioned that 2011 involve. And then, secondly question,maybe to Martin Mackay with regards to the R&D, just the scopes of R&Defforts right now. Are you comfortable with the breadth of investment? Or what are your thoughts on just may be Pfizer focusingon pure therapeutic categories may be the target investment you are making onOncology as an example, putting more resources towards may be in more selectedportfolio products? Thanks.\\nJeff Kindler: Okay.Chris, I’m going to let Ian take the first question and I just mentioned andyou’ll get to know him a lot better. It’s Mackay not Mackey. So, Ian do youwant to talk about the further investments in Lipitor?\\nIanRead: Chris, as you imagine, the statin market isextremely competitive. I mean not only on the generic side but on the brandedside with large investments by behind Crestorand Vytorin. And we analyzed this verycarefully and have its models and look at response rates and I’ve got no doubtsthat we need to continue to maintain the support behind this brand through theperiods that you discussed, there is no question about it in my mind.\\nJeff Kindler: Martin?\\nMartin Mackay: Thankyou for the question, Chris. Jeff alluded to the fact that we visited all themajor R&D sites last week, and during that visit we took along new PGRDleadership team, plus Corey Goodman andgained tremendous amount of excitement amongst the colleagues for some of thechanges that we’ve made. At those meetings, we laid out a very distinct fivepoint plan to all the colleagues in R&D. And although I won't go throughall of the points in the interest of time, I will mention two or three of themwhich really addresses the point that you make. Clearly and again as Jeff alluded to, over the shortterm, we must make sure that we deliver on our Phase 3 portfolio. I know thatportfolio isn’t as rich as like it to be in Phase 3, but nevertheless there isa lot of value there around our Oncology platform with Axitinib, CTLA-4, etcetera and another indications for Sutent. We also have some other excitingcompounds in that area, and we must deliver to gain the value for the company. Secondly, we need to make surethat this rich Phase 2 portfolio that we have which again has already beeneluded to, as we actually translate into Phase 3. And we do have a realpotential to create and more Phase 3 starts next year and in '09 and '10 thanwe have ever have before as an organization. So, to really accelerate, thehottest compounds through that pipeline. Now, it's the real piece that you'llask about to do this and this was the second part of the plan, we're going tohave to focus resources on the highest priority compound and the highestpriority disease areas. So immediately, I have launched a team to look at all thecompounds that we currently have in development and will be going through thosein a rigorous analysis one by one over the next two to three weeks to make surethat we are backing that very finest compound. Then next on our list is to lookat the disease areas that we work on and again, we’ve been doing quite a pieceof work over the summer already to really get to that heart of what aretherapeutic areas that we are going to be really crucial over the next period.You mentioned one of them Oncology, of course, we have other very hot areas,diabetes will continue. It's a very important area for us. Alzheimer's diseasefor example and a number of other areas that over a very short period of time,we are going to focus our resources on to the hottest compounds and the hottestareas.\\nJeff Kindler: Thank you, Martin. We have timefor one more question.\\n\",\n",
       " \"Next question will be from JamesKelly of Goldman Sachs.\\nJames Kelly: Thank you and good afternoon. Iwant to just ask a quick two part question on this. One, to follow-up onDavid's question and really ask about the fixed cost component, on the Exuberaexit. If you are looking at about $1.1 billion of intangibles and $500 millionor just under that worth of fixed assets, what should we think about thesefixed cost charge per annum that will not be in the number going forward. And then secondly, as we take alook at some of the pipeline products that Pfizer has recently discontinued oreven Exubera, definitely seen that some of the products that were in-licensedin a very competitive process and had fairly high royalty rates. And forwhatever reason we are not meeting the right economic hurdles or we are notlooking like we are going meet the right profile. Are you thinking differentlynow about how you bring products in and what sort of variable cost componentcould come in on products that you are looking at from a business prospective?Thank you.\\nJeff Kindler: Okay. I well let Frank take thefirst part.\\nFrank D'Amelio: Yeah, I think in terms of thefirst part of the question on fixed cost clearly to your point there will besome cost that will not be incurred which is the point that you all were askingabout when we get into 2008. But as I made on the same point before that's partof an array of various items we are working our way through relative to the2008 plan and to the guidance that we reaffirmed today on 2008. We're stillworking through the details of the '08 plan, we are comfortable with thegeneral parameters we provided today and come January, we'll provide anotherupdate on our 2008 guidance.\\nJeff Kindler: Jim, could you just restate yoursecond question again? Please.\\nJames Kelly: As you take a look at theopportunity thanks to in-license or the business development in general, areyou thinking differently about what kind of economics you want to bring inhouse. Because some of those products that you've recently exited, whether itsExubera or others in the pipeline had much higher variable cost burdens orroyalty burdens is that part of the calculus here at all?\\nJeff Kindler: I let David respond to that.\\nDavid Shedlarz: Good Jim, there's a number ofdifferent ways that we're addressing business development not only from aneconomic point of view but from an organizational point of view and also interms of the types of transactions we are likely to enter into. And so, let mehighlight first that, we are exercising greater discipline in terms of that,the way that we are approaching overall business development, understanding asyou highlight, not only the initial cost in terms of entering into atransaction of the ongoing burden to the company at the same time. In somerespects, you have to take a look at business development the same way, youtake a look at in total activity, and you are just acquiring whatever you areacquiring at whatever stage on that basis and you have take into considerationof that which is only going to able to accommodate a certain level of activityat the same time. Also understand, you are notgoing to see your father's approach to business development going forward. Youwill see classical ways of entering for licenses and acquisitions, but you arealso going to see more alliances being established along the lines of what we putin place for a fix-a-band. And let me tell you what that ends up doingstrategically. One spreading the risk, two make in showing to your advantagethe best capabilities are people in the business. And three, this is probablythe more elegant way of dealing what is an over capacity in the pharmaceuticalindustry by pulling together activities. So, hopefully that answers yourquestion. There is going to be a lot of changes in the approach, not only fromeconomic point of view, but a risk of point of view, and a capabilities pointof view at the same time.\\nJeff Kindler: Thank you, David. That's all thetime we have today, I appreciate all of you listening in and have a goodafternoon.\"]"
      ]
     },
     "execution_count": 8,
     "metadata": {},
     "output_type": "execute_result"
    }
   ],
   "source": [
    "#checking out ways to separate the manager and analyst sections of the conference. Needs work\n",
    "import re\n",
    "re.split(r'(?:Operator:[ ]*)',ec10.content[1])"
   ]
  },
  {
   "cell_type": "code",
   "execution_count": 9,
   "metadata": {},
   "outputs": [
    {
     "name": "stdout",
     "output_type": "stream",
     "text": [
      "Operator: Mr. Amal Naj, Senior VicePresident of Investor Development, you may begin your conference.\n",
      "Amal Naj: Good afternoon, and thank you forjoining our Third Quarter 2007 Analyst Conference Call. I am here with JeffKindler, Chairman and CEO; David Shedlarz, Vice Chairman; Frank D'Amelio, ChiefFinancial Officer and other members of our senior management team. We will first review the resultsof the latest quarter presented in the earnings release issued this morning andavailable on our website. In a change of practice, we will present financialcharts on the call, which can be viewed on our home page at www.pfizer.com. Inthe investor presentations tab by clicking on the link, quarterly corporateperformance third quarter 2007. We'll take questions after thereview of our results. In order to facilitate the maximum number of questions,we would appreciate if you would limit yourself to just one question per personand try submitting, we will come back to you for any follow-up questions youmight have. I would like to remind you, thatour discussions during the conference call will include forward-lookingstatements. Actual results could differ materially from those projected in theforward-looking statements. The factors that could cause actual results todiffer are discussed in Pfizer's 2006 annual report on Form 10-K and in ourreports on Form 10-Q and Form 8-K. Also, the discussions during thiscall will include certain financial measures that were not prepared inaccordance with Generally Accepted Accounting Principles. Reconciliations of thosenon-GAAP financial measures to the most directly comparable GAAP financialmeasures can be found in Pfizer's current report on Form 8-K, dated October 18,2007. These reports are available on our website at www.pfizer.com in theInvestors, SEC filing section. Now, I would like to turn thecall over to Jeff Kindler. Jeff?\n",
      "Jeff Kindler: Thanks, Amal and good afternoon,everyone. I would like to welcome Frank to his first earnings call at Pfizer.In just the few weeks that Frank has been here, he's already added tremendousvalue to the company. I'd like to comment briefly onour quarterly results, as well as on some of the steps that we are taking torebuild Pfizer and put the company on the right track for the future. We are continuing to make the toughdecisions and take the right actions that are necessary to address ourchallenges and seize our opportunities. Between now and 2011, we need tocontinue to improve all of the foundational elements of our company and we needto continue to optimize our current performance, even as we focused on thecritical factors necessary to reset the company strategically and rationallywhen Lipitor goes off pattern. There are no quick fixes, butrather a series of actions which break-by-break are putting in place thefoundation we need for a successful future. We're moving with the sense ofurgency, but at the same time, we must be disciplined in how we allocate ourcapital in order to maximize the strategic and financial returns to ourshareholders. With that background, let mehighlight a few important aspects of this quarter. First, our operationalperformance, second, our decision to stop selling Exubera, third, ourcontinuing progress in reducing our cost structure, fourth, our commitment tosubstantially enhance our talent pool by putting strong leaders from inside andoutside the company in key positions, and fifth, our establishment of morefocused and accountable business units to drive improved performance. First, operationally, we had asolid third quarter. We're reconfirming our revenue and adjusted dilutedearnings per share guidance for 2007 and 2008. Indeed, we're raising the lowerend of the ranges we previously provided for revenues and adjusted diluted EPSfor 2007. I think it's worth noting that we'reon track this year to achieve roughly the same revenues as last year and betteradjusted income in last year, despite the loss of exclusivity on two majordrugs, Norvasc and Zoloft, and despite the intense challenges facing ourlargest product. This is due to the strong performance of most of our products’substantial progress in our cost reduction efforts and the benefits offavorable foreign exchange. Our operational performance in myview reflects our insistence on a higher level of focused and accountabilitywithin the company. The advantages of our broadly diversified portfolio and thebenefits of our continued actions to improve productivity, these attributes arean important part of the solid foundation that we are building for the future. With the obvious exception ofExubera, our new products performed very well this quarter. Lyrica grew 37% to $465 million,compared to the same period last year and it has delivered $1.3 billion inrevenues year-to-date. In June, the FDA grantedaccelerated approval to Lyrica for the treatment of fibromyalgia which morethan doubles the potential number of US patients who could benefit from thismedicine. We were in the field in record time to take advantage of thatopportunity. Chantix, our treatment to aidsmoking cessation, continues its strong performance with $241 million inrevenues for the quarter and more than $600 million in revenues year-to-date.Since the August 2006 launch in the US, more than 3.5 million smokershave been prescribed Chantix, and we've just launched a branded advertisingcampaign to build on this momentum. When you consider that there aremany countries in Europe and Asia wheresmoking is still very prevalent, the global opportunities for Chantix aresignificant. For the year-to-date, Celebrex isup 10% worldwide and 7% in the USmarket that is basically flat. Geodon is growing at a rate of two times themarket for atypical antipsychotics. And during the quarter, we launched the newViagra advertising campaign that has generated a lot of interest and positivefeedback from the field. We are also continuing to bringstrong and creative support to Lipitor, which is facing a commercial assaultunprecedented in our industry's history. With new indications in data,advertising, field force support and contracting strategies to optimize Tier 2access, we are fighting back hard against branded and generic competition,focusing on both new patients and the switch market. In the phase of thesechallenges, Lipitor revenues in the quarter were $3.2 billion as compared to$3.3 billion in the third quarter last year. Now, I'd like to address thesecond key aspect of the quarter, our decision to stop further investment inExubera. This decision reflects our strict adherence to three fundamentalprinciples which will continue to guide us going forward. We will be realistic,we will listen to our customers, and we will be very disciplined in how weevaluate both internal and external investments, so that we can put our capitalto work in support of our best opportunities to create shareholder value. Pfizer began the developmentprogram for Exubera in collaboration with Nektar Therapeutics over a decadeago. We launched it in July 2006 and made a major effort to make it successful.But despite the best efforts of our sales, marketing and manufacturingcolleagues, the product has simply not gained the acceptance of patients andphysicians. Accordingly, we will over the next three months, support doctors intransitioning their patients to other medicines, and we will cease furtherinvestments in the development of a second generation device. We will redeploy those colleaguesin sales, marketing, medical and R&D, who have dedicated themselves to thisproduct, to activities that are projected to generate higher returns. Includingimportant late-stage development projects, as well as, stepped up field forcesupport for our inline products. We will phase-out thosemanufacturing activities that have been dedicated to Exubera. There are feweropportunities for redeployment in manufacturing, and we will explorealternatives for sites and employees in consultation with works, councils, andother appropriate bodies. And we will, of course, carefully evaluate whathappened here, in order to ensure that we apply all the lessons learned tofuture product development and marketing. We remain committed to finding anddeveloping new treatments for diabetes, which is an area of enormous unmetmedical need. Our R&D portfolio in thisfield spends the width of the diabetes disease continue, from geneticsusceptibility at birth, to the onset of devastating complications. This isalso an important focus for business development. In addition, we will continue toclosely monitor developments in medical practice and technology as they relateto inhalation therapies and other innovative delivery systems, both for insulinand for other medicines. The third area I'd like tohighlight today is the progress we are making on reducing our cost structure.For this year, cost savings in the selling informational and administrativeexpense component of adjusted income, are ahead of plan. We are now projectinga decrease in these expenses of about $600 million on a constant currencybasis. And we are continuing to take the necessary steps to meet our goal ofreducing our total adjusted cost by at least $1.5 billion to $2 billion by2008, compared to 2006 on a constant currency basis. The process of closing sites likeAnn Arbor in R&D and Brooklyn, Groton and Sandwich inmanufacturing is on track. As these are company wide plants to reduce overallheadcount by 10%. We are making solid progress and putting into place a muchmore flexible cost base that will more easily adapt to our changing businessneeds. And as we do this, we are also placing a very strong emphasis on day in,day out productivity improvements across the entire company. We recently announced that NatRicciardi, who has had significant success in this area as the leader of ourmanufacturing division will lead an intensive enterprise wide focus oncontinuous improvement. The fourth area I'd like tohighlight today is the steps we continue to take to enhance our leadershiptalent. We are continuing to put the best possible people from inside andoutside the company in critical leadership positions. As you know during thisquarter, in addition to bringing Frank D'Amelio to the company, we name MartinMackay, President of Pfizer Global Research and Development. After traveling with Martin toour R&D sites around the world last week, I can tell you that he enjoys thehighest respect of our scientists. They fully understand and support hiscommitment, to striking the right balance between stability where that isappropriate and change where that is necessary. In R&D, as in all ouractivities, we need increased speed and focus, we need to exercise betterdiscipline in picking the right programs to pursue, and we need to allocate ourcapital to disease areas with the strongest commercial potential. Our business development group inclose collaboration with R&D will continue to seek opportunities to bringin high potential programs and products from outside of our labs and ourresearch organization will continue to pursue the best possible scientificopportunities for the future both inside and outside the company. But Martin's single and mostimportant priority is taking the broad array of candidates in our late-stagepipeline and bringing them forward to the market as fast as possible. We have47 compounds in Phase II in very promising therapeutic areas, the most in ourhistory. We believe that we have the opportunity to have more Phase III startsnext year than at any time in our history. Martin will focus in particularon advancing the most promising Phase II compounds, such as our Jak3 inhibitorfor rheumatoid arthritis and IGF-1R, a monoclonal antibody for the potentialtreatment of common malignancies including non-small cell lung, breast,prostate and liver cancer. In another important diseasearea, just this week, our alpha-2-delta compound for the treatment of anxietymoved into Phase 3. Underscoring what we see as our competitive advantage in anarea of science that has produced Neurontin and Lyrica. We've also, as you know, added animportant new dimension to our research capacities by establishing abiotherapeutic and bioinnovation center based in California and led by Dr. Corey Goodman, anenormously talented scientist who enjoys the highest respect of the worldwidescientific community. The center will pursue cutting-edge research that weexpect will generate an additional Corvert of drug candidates to take into theclinic and from there to the marketplace. The fifth and final point I'dlike make this afternoon is that in this quarter, we have continued to see evidencethat the organizational changes that we are making are leading to betterexecution and better results. For example, by breaking our US business into five distinct andmanageable units, led by strong general managers, we've established smaller andmore focused originations, where everyone involved has a clear line of site toresults so they can effect and be held accountable for. The new structures have only beenin place for six months, but it is already showing what it can do with our newproducts like Lyrica and Chantix. And our U.S. field force after a majorreorganization is leading our industry in call volumes, calls per rep, totaldetails and details per rep. So to recap, we are working witha sense of urgency and a single-minded focus to improve every aspect of ourcompany. From the way we work, to the way we make decisions, to the speed withwhich we operate, to the way we allocate our owners capital. These changes andothers are establishing the necessary foundation for our future. They willensure that we continue to improve the way in which we capitalize on top lineopportunities, both internal and external, the way we achieved increasedproductivity and the way that we will continue to improve our performance. Allof this will drive the achievement of our ultimate goals. Putting Pfizer on theright track, helping patients and enhancing the returns we delivered to ourshareholders. And now, I would like to turn itover to Frank D'Amelio\n",
      "Frank D’Amelio: Thanks, Jeff. Good day everyone.Now, to the financial results. The charts that I will be reviewing with you areincluded in our webcast and will help facilitate the discussions of our thirdquarter results. Let me begin with the highlightsof our performance. Today, we posted reported revenues for the third quarter2007 of $12 billion, a 2% decrease from the same quarter of last year. Thedecline reflects the loss of USexclusivity of Zoloft and Norvasc. Zoloft lost US exclusivity in June 2006, a genericcompetition did not enter the marketplace until August of 2006, while Norvasclost U.S.exclusivity in March of 2007, six months earlier than expected. In addition, Lipitor revenuesdeclined modestly, as the product continues to experience intense competitionfrom branded and generic products in the statin market. On a positive note, ourthird quarter revenues were favorably impacted by the strong results of our newproducts, as well as, foreign exchange, which added approximately $300 millionto our top-line. Also from a comparison perspective,in the third quarter of 2006, we had a one-time reversal of the sales deductionaccrual of approximately $170 million. This was due to a favorable developmentand a pricing dispute in US, which we noted in third quarter last year. Our reported net income of $761million was down 77% from last year. Our reported diluted EPS of $0.11 was down76% from last year's $0.46. Adjusted income was $4 billion up 1% from the sameperiod last year and adjusted diluted EPS was up 7% to $0.58 from $0.54 last year.The sharp decline in third quarter 2007 reported net income is primarily aresult of the items impacting revenue that I just described, as well as, $2.8billion of pre-tax charges related to the write-off of intangibles, inventory,and fixed assets associated with exiting Exubera, as well as, the accrual ofother exit costs, which I will discuss in more detail, shortly. Also reported net income andreported diluted EPS were negatively impacted by cost we incurred in connectionwith our cost-reduction initiatives, including restructuring and implementationcost in the creating of more efficient, effective and aligned globalorganization. On an adjusted basis, which hasreported income and diluted EPS, excluding purchase accounting adjustments,acquisition-related cost, discontinued operations, and certain significantitems, our third quarter earnings performance improved despite the revenuedecline given our year-over-year decrease in our total cost, higher interestincome the favorable impact foreign exchange. Adjusted diluted EPS was alsofavorably impacted by our share purchase program. Before moving on, let me pointout several significant items that are included in our reported results for thethird quarter. More detailed disclosures will be provided in our Form 10-Qfiling, to Securities and Exchange Commission. In the third quarter, we incurred$437 million restructuring charges compared to $245 million last year. Thesecosts are primarily associated with employee termination cost and asset impairments.Additionally, we incurred $373 million in implementation cost compared to $182million last year. These costs are primarily associated with our sites thatwill be closing and are recorded in cost of sales, research and development,and SI&A expenses. These are more fully detailed in the supplementalinformation that accompanies the earnings release. Specific cost reductioninitiatives are varied and stand most divisions, functions, markets and sitesacross Pfizer, broad categories of activity, our sales force reductions,manufacturing and research site closures and off-shoring and out-sourcing. We reduced our US sales force by about 20% and areimplementing similar reductions in most markets. Sales force restructuringshave been completed in a host of other markets as well. We have announced the closure ofnine manufacturing plants this year, most recently, Sandwich, England,and six research sites. To-date, all transactions are proceeding according toplan. Additionally, the vast majority of research programs and developmentprojects have been transferred and stabilized to their new location withminimal disruption. All impacted initiatives will be transferred by yearend. Further, a wide array ofoff-shoring and out-sourcing opportunities are in various stages ofimplementation. Manufacturing, logistics, finance, facilities, medical, legaland IT are among the functions pursuing the financial and operation benefits ofthis strategy. Now, on to the $2.8 billion ofpre-tax charges associated with the exit of Exubera, our inhaled insulinproduct. Our Exubera revenue performanceto-date has been disappointing. Our worldwide revenues were $7 billion in thethird quarter 2007 and $12 million year-to-date. The performance of Exubera hasled us to our decision to exit Exubera, which has resulted in pre-tax chargesof $2.8 billion. These charges are comprised to various components, includingapproximately $1.1 billion of intangible assets, from the acquisition of therights to Exubera, $661 million of inventory, $454 million of fixed assets and$584 million of other exit costs. On the income statement, $2.6billion of this charge is included in cost of sales, while the remainder isincluded in revenues, SI&A expenses and R&D expenses. The asset-relatedcharges of approximately $2.2 billion, represents non-cash charges, while theother exit costs will result in future cash expenditures. In the financial schedules,accompanying our earnings release, we have provided our reported financialresults, we have also provided for the first time a reconciliation of reportedresult to our adjusted results on a line-by-line basis. I'd like to now provide furtherinformation on our adjusted results. Adjusted cost of sales as a percent ofrevenues was 15.1% compared to 15.4% in the same quarter of last year. However,for the full year we expect adjusted cost of sales to rise to approximately15.5% of revenues compared with our previous estimates of about 15%. The reasonfor this change is that a greater portion of our revenues and associated costsare being generated in international markets, 52% in the latest quarter versus45% in the same quarter last year. Also, portfolio was shifting to a mix ofproducts with high cost relative to the prior year. Adjusted SI&A expensesdeclined 1% from last year, this reflects our efforts to streamline theorganization and improve operational efficiency. The level of decrease ispartially offset by the unfavorable impact of foreign exchange. For the fullyear on a constant currency basis, we now expect an adjusted SI&A reductionof about $600 million relative to the prior year versus our previous guidanceof greater than $500 million. Adjusted R&D expenses for thethird quarter declined 5% from last year, also due primarily to our efforts toimprove operational efficiency. We continue to project the full year 2007,adjusted R&D expenses to be approximately $7.5 billion. Our effective taxrate on adjusted income for the quarter was approximately 22%, we continue toproject 22% for full year 2007. On a year-to-date basis, many ofthe changes in the first nine months of 2007 compared to 2006 are consistentwith those previously described related to the quarter. Loss of USexclusivity, strong new product growth, the benefits of our efforts tostreamline the organization and improve operational efficiency, increaseinterest income and favorable foreign exchange. Adjusted R&D expenseshowever increased 5% primarily as a result of our collaboration withBristol-Myers Squibb to develop and commercialize apixaban. Adjusted cost of sales increased6% as a result of changing geographic and product mix. I would also like tohighlight the performance of selected products. First Lipitor; Lipitorworldwide revenues for the quarter were down 5% compared to the same periodlast year. Revenues in the USdeclined 13% while revenues in international markets increased 9%. In the US,revenues declined as a result of intense competition and payer pressure. Of the9% increase internationally, 6% is due to the favorable impact to foreignexchange and the remainder to operating growth. Overall we do expect full yearrevenues to fall within the range of 3% to 5% decline in 2006. As you can seeother key in line products posted positive results in the third quartercompared to the same period last year. I would also like to emphasizethe strong growth being delivered by our key new products. Chantix, our smokingcessation treatment posted revenues of $241 million compared with $33 million ayear ago. The revenues of Lyrica, our medicine for the management ofneuropathic pain and mostly recently fibromyalgia increased 37% to $465 millionand revenues of Sutent our product for advance kidney and cancer of thedigestive system were $151 million compared with $63 million last year. Now as to Zoloft and Norvasc, youcan see the short drop in revenues in the third quarter, a 73% drop to Zoloftand a 47% drop in Norvasc, following the loss of US exclusivity. Excluding Zoloftand Norvasc, worldwide pharmaceutical revenues would have increased 5%. As youcan see in our earnings release, we have made some changes in our 2007financial guidance. I've already discussed our 2007 guidance related to Lipitorrevenues, adjusted cost of sales as percentage of revenues, SI&A expensesand R&D expenses. We previously projected revenuesof $47 billion to $48 billion for 2007, we are now improving the range to $47.5billion to $48 billion as we move closer to year end. On reported diluted EPSfor the full year, we previously said $1.30 to $1.41, given the chargesassociated with exiting Exubera, we have now lower the range to $1.01 to $1.10. On adjusted diluted EPS for thefull year, we previously said $2.08 to $2.15. We are now improving the range to$2.10 to $2.15. Guidance remains unchanged for other items, effective tax rateon adjusted income and cash flows from operation. Lastly, in the area of ourstock buyback program, we previously said that we will repurchase up to $10billion of our stock in 2007 and that remains our expectation. To-date, we havepurchased $7.5 billion of our stock in 2007, for a total of approximately 291million shares. Now on to 2008 guidance, ourpreviously issued guidance remains unchanged, except for our target to reduceour adjusted total cost. We previously projected that we would achieve anabsolute cost reduction of at least $1.5 billion to $2 billion compared to2006. We now expect to achieve this target but at constant exchange rates. Thisis reflective of the extent to which our expenses have been adversely impactedby foreign exchange. The strengthening of the euro and of the currenciesrelated to the dollars partially offsetting saving from our cost reductioninitiatives. So to summarize the key takeawaysfor the quarter. We are on track to achieve our 2007 revenue and adjusteddiluted EPS guidance. We have raised the lower end of the range and ourguidance for both 2007 revenues and adjusted diluted EPS. Additionally, we have reaffirmedour 2008 guidance, but have now stated that our 2008 total cost reduction of atleast $1.5 billion to $2 billion as compared to 2006, as a constant exchangerates. We recorded $2.8 billion of pre-tax charges associated with the exit ofExubera. These charges relate to the write-off of certain assets as well as theaccrual of other exit cost, which resulted in at $0.31 reduction and reporteddiluted EPS for the third quarter. Our new products particularlyChantix, Lyrica and Sutent are performing extremely well and our largestproduct Lipitor continues to do well considering the intense competition andpayer pressure. Lastly, on our cost reductioninitiatives, we continue to make progress to reduce our overall cost base andimprove our operational efficiency. We recognize we have made significantprogress to-date and that there is more to do in order to achieve our overallobjectives. With that, I would like to turnit back to Jeff.\n",
      "Jeff Kindler: Thank you very much, Frank. Andwe are now ready to take your questions.\n",
      "Operator: Andersonwith SanfordBernstein.\n",
      "Tim Anderson: Thank you, I have a couple ofquestions. The first actually it just goes back to your earlier announcement ofthe biotherapeutic center that you are going to establish on the West Coast.And I am wondering if this is going to be a bricks-and-mortar facility. And ifyou actually go so far as make it a research or designate a separate pool offunds with things like acquisition. And then the second question,sorry, if this has too blown, but any comments about Biogenetic being for saleand whether this is something that Pfizer would potentially consider?\n",
      "Jeff Kindler: Okay Tim, thank you. First withregards to biotherapeutics, we’re starting with the facility that we alreadyhave in San Francisco called Rinat, which as you may know it was theneuroscience spin-off from Genentech and has really done quite well and we’revery excited about some of the opportunities that we have there and Dr. Goodmanis going to initially start with that base. And we’re in the process developingthe future business plans, but I think you can look forward to creatinghopefully a network of organizations without a significant investment inbricks-and-mortar, because I don't think that will be necessary, and it will bea very integrated approach to business development that involves both whatCorey Goodman is leading, as well as what Martin Mackay, at [Oregon] ourbusiness development group is leading. So, stay tune, I'll be talkingabout further plans as we go forward, but that's how we are starting. And withregard to biogenetic, obviously we don't comment on that kind of speculation,so I won't surprise you in that regard. But, I just have to say, we will alwayskeep eyes and ears open at any means to build our business through alliances,licensing or acquisitions and when the right opportunities present themselves,we will act appropriately. But, we really want to be disciplined in how weallocate our capital and we want to be thoughtful about that and so, we look atall these opportunities from that perspective. We are going to focus first onproduct potential, especially with our gaps in our therapeutic areas. We willfocus secondly on expanding our platform potential, such as new ways to delivertherapies and as I said the most important consideration here is to ensure thatwe deploy our capital in the best possible ways to create opportunities forcreating shareholder value.\n",
      "Tim Anderson: Thank you.\n",
      "Jeff Kindler: Thank you, Tim.\n",
      "Operator: Your next question comes fromJohn Boris of Bear Stearns.\n",
      "John Boris: Yes, good afternoon. Thanks fortaking my questions. To your point Jeff on capital allocation, it appears thatwith 7.5 billion of shares repurchased and are you completing the 10 billionshare repurchase, also with the dividend increases that we've seen over thelast couple of years, I think two years ago, is it 27% increase, 21% increaselast year? And then on business development,can you just take us through how you are thinking about those three elementsgoing forward? And then, I just have a follow-up on some operational questionson Lipitor and Exubera.\n",
      "Jeff Kindler: Okay, John. Why don’t I let Frankstart that and we will see if that addresses your question.\n",
      "Frank D'Amelio: Sure, on the dividend, let mestart by saying as a company, we've been committed to total shareholder value.Going forward, we will continue to be committed to total shareholder value. In terms of the numbers, John,let me just run the numbers for you. Two years ago, the dividend was $0.76,this year it $1.16, so it's increased 53% over the last two years. It's 32% in'06, 21% in '07. Going forward, for the '08 dividend, we will announce thatdividend in December of this year for the upcoming year, as it has been ourpractice from the past.\n",
      "John Boris: Buybacks?\n",
      "Frank D'Amelio: On buybacks, we announced thisyear a repurchases of up to $10 billion. At the end of the quarter, we haverepurchased $7.5 billion worth of our shares, 291 million shares. We areclearly on a path to achieve up to 10 billion in our repurchases. One again, interms what we’ll do going forward, in January, we’ll announce our 2008 buybackprogram as it has been customary.\n",
      "Jeff Kindler: Okay John, your second question?\n",
      "John Boris: Yeah, just on operations onExubera. Can you just comment on the sales reps or the detailed effort that youhave behind the brand? And how are you going to be reallocating that importantresource going forward? And then, I think I recall thatthere was a manufacturing facility in Germany that went along with youracquisition of the full rights on Exubera. What are you going to be doing withthat? And then on Lipitor, just on the trends on Lipitor, seems like the fourweek average trends on TRX, the growth is minus 15% if you look at it by dosageform, the 10 mg is declining 19%, 20 mg down 14%, 40 mg is down 7% and 80 mg isup 1%. You’re aggressively doing a lot of direct-to-consumer advertising but itdoesn’t seem to be addressing the growth issue that you have within the US.Can you just talk about when you might be anticipating seeing stabilization ofthose trends in the United  States?\n",
      "Jeff Kindler: Okay, let me start with the firstpart of your question and then I'll ask, Ian, to address the Lipitor. We aregoing to redeploy the vast majority of the effected colleagues in commercialmedical and R&D functions, and there will be no reductions in the USfield force. We're going to redeploy people in those groups, I mentioned tosupport projects and products that have, we hope greater commercial potential. Now, in manufacturingopportunities for redeployment are frankly pure and they depend on the ultimaterole for the impacted sites, including the one you mentioned. So, we'll beexploring alternatives for those sites and their employees and consultationwith works councils and other appropriate bodies. Ian, do you want to address thequestions about Lipitor?\n",
      "Ian Read: We have been shutting thatfacility.\n",
      "Jeff Kindler: As I said we have to look at thatin consultation with works councils.\n",
      "Ian Read: Okay. So, I'll give more color onthe Frank's comments on Lipitor, so we were down about 13% in the U.S.On scripts, the pricing and rebates were basically a watch given the fact thatwe had a favorable settlement in the third quarter of '06, which basicallyoffset our favorable pricing of impact for quarter. If you're looking at Lipitor, Ithink you got to just look back and discuss how we look at the market, how wesee what's happening and on the switch loss, we appear to stabilize that atabout 50% below the peak, post the advent of multi-generic simvastatin, infact, we are now at the pre-multi-simvastatin level. New patient population isfluctuating or new patient volume is fluctuating around to a 20% share. I liketo indicate I feel we are very competitive, against the brand of statins inthis marketplace. And our access remained strong, our access remains in therange of 65 to 70 at Tier 2 across commercial and medicare lives. And we see themarket while slowing up from 12 to plus growth to about high single-digitscoming out of this year and I see that being maintained in '08. So, our strategy is to continueusing our commercial resources to folks on the switch, the new patients andmaintaining access. And as you noted, those strategies are being appliedagainst on the professional platform to differentiate Lipitor on the efficacyacross the dosage range, it's safety and outcomes, a very strong DTC programusing print and using the (inaudible) ad, which is one of our best ads forLipitor. We are also looking at using those resources and targeting those siteswhere we see the most activity on generic switching. And we are also usingrelated things like value cards to deal with co-pays. And that's theenvironment we see going forward for Lipitor.\n",
      "Jeff Kindler: Thanks Ian. Next question,please.\n",
      "Operator: Your next question comes fromJami Rubin of Morgan Stanley.\n",
      "Jami Rubin: Thank you. I've got a fewquestions. Frank, this might be unfair since you are still new. But based onthe guidance next year, which doesn't appear to have meaningfully changed atall. The expectation for cost reduction of $1.5 billion to $2 billion hasn'tchanged and you've given a pretty wide range of EPS and a relatively wide rangein terms of the top line. But if I assume sort of a middle of the range onrevenues, I've got to assume a significant decline in both SG&A and R&Djust to get to the bottom end of the range next year. I appreciate you can't give a lotof detail yet on 2008, but you have offered this guidance. Am I thinkingdirectionally in the right way that we haven't seen yet big year-over-yeardeclines in those expense areas? And again just to get to the lower end of therange, I've got to assume big year-over-year declines. That's my first myquestion. Second question is, justinterested in the Exubera announcement today. You are also disbanding yourresearch on second generation Exubera, which I thought was interesting. And Iam wondering if you could comment on, why are you stopping development in thesecond generation insulin device? And it seems to me that one of the biggestissues was the device itself. The second generation device was a nifty littlething that should be an easier sell. And I am just wondering if you couldcomment on why you've chosen to scrap the whole development plan. If you thinkit's more than just a device, if it has to do with just the overall acceptancesof pulmonary insulin. And my third question relates to anupdate on the Lipitor 993 patent. If you could tell us where that fits now atthe Patent and Trade Office. Thanks.\n",
      "Jeff Kindler: Okay. Thanks Jami. We are doinggreat on our one question per --\n",
      "Jami Rubin: Sorry.\n",
      "Jeff Kindler: Here, but they are all goodquestions. So, I'll let Frank take the first, Ian take the second and AllenWaxman will take the third.\n",
      "Frank D'Amelio: Let me address the firstquestion. I know you are focusing on the level of cost reduction for '08. Letme start with '07, and then what I'll do is, after I start with '07, gives somestatistics, I'll bridge to '08 and then I'll try to frame that into the overall'08 guidance. We are making good progress onour cost reduction initiatives. In fact, in SI&A in 2007, we increased theguidance from $500 million to $600 million. That was the SI&A element ofoverall cost only. If you thinkabout some of the things we are doing, just operationally to demonstrateprogress, you can bucket most of our cost reduction initiatives into fivecategories. Field force reductions, manufacturing site closures, research siteclosures, outsourcing and offshoring. Let me just give you one statistic oneach and then I will move on to 2008. In the fieldforce, as I mentioned before, we’ve implemented 20% reductions in the US and similar reductions in many marketsoutside of the US.In manufacturing of sites alone, we’ve announced nine exits this year. InR&D, we’ve announced six exits. In terms of outsourcing, we have outsourcedsome of our IT operations. In terms of outsourcing and offshoring, we’veoutsourced and offshored some of our financial back office operations. It's amacro statistic. At the end of last year, we had 98,000 employees. We hadannounced the 10,000 employee reduction at the end of this past quarter we hadabout 87,000. So, I frame that just to give you a feel for we are making a lotof progress relative to the area of cost reduction. Now let's takethat and move into 2008. We have, I'll call it, a relatively wide range outthere for 2008. But in terms of where we fall in the range, there is a lot ofmoving parts still relative to 2008. We are still very much in our planningprocess. We are comfortable enough at a macro level to reaffirm the guidancewe’ve provided on the various elements. We updated or slightly modified the$1.5 billion to $2 billion at constant currency, given some of the things thatare going on with the dollar relative to other currencies. But I think we’vereaffirmed the range. We’ve reaffirmed the guidance. We’ve got some ranges outthere and we’ll be back in January to update the guidance.\n",
      "Jeff Kindler: Thanks Frank. Ian do you want totalk about the second generation, please.\n",
      "Ian Read: Well, Jami, I think to yourquestion, when we look at the marketplace, there are two barriers I think weclearly underestimated. The barrier to moving patients with the physiciancommunity earlier to Exubera. And I think this is one of the major issues thatwe underestimated. The resistance from physicians and patients to going on toinsulin in any form earlier than they have been to-date. So, that is one majorbarrier. The second one is per se, the burden that the Exubera technologyrepresented to the practice, which went from the lung function testing, thetraining on the device, and while the size of device may be a component ofthat, I think you have to look at the totality of it. And that's what led us toa decision to exit.\n",
      "Jeff Kindler: Okay. Thank you, Ian. Allen doyou want to talk about the patent?\n",
      "Allen Waxman: Thanks, Jeff. Jami, you referredto the 993, I assume you completing the 995 and 893, actually both are beforethe Patent office as we speak. I think you may know in August, we receivedcomments from the Patent office on 995 enantiomer patent that was in the formof an initial rejection which is typically the way these things come out. Wehave filed a respond to those comments and that will continue to work its waythrough the Patent office over the next year, 18 months. It can be a lengthyprocess. The 893 is the subject of areexamination request by a law firm associated with Ranbaxy. That request hasbeen granted as the norm and we will wait to hear from the Patent office. Andagain, typically a response can be in the form of an initial rejection of someof the claims. We will have an opportunity to respond to that and that will toowork its way through the Patent office and what can be a lengthy process.\n",
      "Jeff Kindler: Thanks Allen. Next questionplease.\n",
      "Operator: Your next question comes from SteveScala of Cowen.\n",
      "Steve Scala: Thank you. How would youcharacterize generics Simvastatin relative to its ultimate market share? Do youfeel that's nearly full penetrated, 50% penetrated, or some other estimate? Andwithin your overall 2008 P&L guidance, what are the expectation forLipitor's trend and then lastly giving the apparent success of your competitorsin developing a CETP inhibitor without hypertension, are you reconsideringstarting your efforts on your follow-ons towards atropine? Thank you.\n",
      "Jeff Kindler: I will ask Ian to answer thefirst two questions and Mart Mackay will answer the third.\n",
      "Ian Read: So, I will take the second partfirst which is Lipitor inside the overall business. When we look at theguidance we gave on the revenue, we looked at a lot of our major products andwe talked about the opportunities and challenges of those products to get tothe macro-levels. So, I think we expressed our judgment, we reflect thatthrough the balance of all of the portfolio. On Simvastatin either we have gota year and a half, we are coming up to the year review. I am seeing a sort ofat least on the access side, a stabilization of our access, I think we got tolook at how Lipitor continuous to be competitive against Crestor and Vytorin andwe'll see how it goes forward, may be as Simvastatin will continue to make somefurther marginal gains, but it's going to be via some market pressure and notmajor contracting changes.\n",
      "Jeff Kindler: Thank you, Ian. Martin, CETPInhibitors\n",
      "Martin Mackay: Just a briefly, Steve, goodafternoon. We are still currently reviewing the prospect of daytime goingthrough that, carefully we will present, some of this work at the AmericanHeart Association, in November and layout the studies that we have done in thatregard. We have no plans at this stage to begin our -- restart our CETPInhibitor program, until we have thoroughly reviewed all those results andobviously I can't comment on the [med] programs.\n",
      "Jeff Kindler: Thanks Martin, next questionplease.\n",
      "Operator: Your next question comes fromDavid Risinger of Merill Lynch.\n",
      "David Risinger: Thanks very much.\n",
      "Jeff Kindler: Is that same person as DavidRisinger.\n",
      "David Risinger: Yeah, thank you. So, I'll justkeep it to two questions. First in terms of the losses on Exebura, obviouslydropping Exubera will be accretive. Is there anyway Frank that you can framefor us, how accretive it will be for you to drop Exubera? And second, I washoping that you could talk about your biotech and vaccine transaction agenda.This is something that Pfizer has talked about for a long time, there have beenrelatively few transactions to date and I believe that Pfizer's commitment isstill there but in the mean time acquisition target prices are rising and so ithad be helpful for you, Jeff to maybe address that.\n",
      "Jeff Kindler: Okay, thanks. Frank, go ahead.\n",
      "Frank D'Amelio: On the first part of thatquestion I think the simplest way to think about this is Exubera sales for theyear were very, very modest. As I mentioned, $7 million in the quarter, $12million year-to-date, so really no impact on our margins.\n",
      "Jeff Kindler: Okay. Dave, with regard tobiotherapeutics clearly you're right, the deal environment is challenging,there is a relatively finite number of assets, especially in the later stagesand the prices are clearly quite high. We feel that there is still a lot ofopportunities out there if we take a thought on disciplined approach to it andpossibly through creative deal structures in the like. Obviously, I’m not goingto comment on any particular transactions we might be considering, but therehas been activity in that area and there will continue to be and we have tostrike the balance between our desire and need to supplement our internalportfolio, which we've clearly recognized. But at the same time exercisediscipline to ensure that we make smart investments that will payoff for theshareholders that's not an easy thing to do in this environment, but we aregoing to keep at it.\n",
      "David Risinger: And just a follow-up Frank,obviously in dropping Exubera you're dropping a lot of costs in manufacturingand promotions, so won't that be accretive?\n",
      "Frank D'Amelio: Yeah. So in terms of '07, it'salmost November already, right? So I mean there isn't a whole lot of the fiscalyear left and clearly, decisions and implications were factored into theupdated guidance we gave. In terms of 2008, once again, there are many factorsthat impact the guidance, which is part of why we have the range, we have allof that clearly factored into the update we provided today on 2008.\n",
      "David Risinger: Thank you.\n",
      "Frank D'Amelio: Thank you.\n",
      "Jeff Kindler: You are welcome. The nextquestion, please.\n",
      "Operator: Your next question comes from RoopeshPatel of UBS.\n",
      "Roopesh Patel: Well, thanks. I have a couple ofquestions on the Celebrex, I'm actually curious about the company's strategy onCelebrex here for the US market in the context of the two price increases takenover the six-month period, totaling 12%. I know that this was highlighted asone product area where you wanted to resume market share growth, are yousatisfied with how things have turned out? And then separately if you couldalso help us claim the opportunity for Celebrex in Japan that would be very helpful?\n",
      "Jeff Kindler: Okay. Roopesh I will turn boththose questions over to Ian.\n",
      "Ian Read: So, I think you step back andlook at it, Celebrex clearly offers value to patients and that's reflected inthe way we are commercializing the product this year. The market growth isanemic and we are still focused on reestablishing market growth and scriptgrowth for Celebrex. To get to that we need to dealfirst of all with the CV issue and put it in perspective and we are leadingwith that in our discussions with physicians, both with the field force andwith medical-to-medical and through DTC. When we ran the DTC over this issue inthe second quarter, we did see a response in market share. We will be back intothe fourth quarter and the first quarter heavily on this area in DTC to sort ofreestablish to growth trend on scripts for Celebrex. So the strategy still isfocused on reestablishing growth in scripts for Celebrex. Specifically Japan, we're working through indications andregistrations in Japan andwhen that's complete, I think we also have to work through pricing anddepending upon that, we can get to the opportunity in Japan.\n",
      "Jeff Kindler: Thanks, Ian next question please.\n",
      "Operator: Your next question comes from GeorgeGrofik of Citigroup.\n",
      "George Grofik: Thanks for taking my question.Looking to 2008, can you give us a sense for the Part D pricing environment,and to what degree you may have seen more pressure on that business relative2007? And secondly, in past several weeks, across the market growth is low tomid single-digit, and can you provide some color on what you believe is causingthat slowdown and what you anticipate will reinvigorate growth in the market toyour expectation of high single-digit? Thank you.\n",
      "Jeff Kindler: Thanks, George. I'll let Ian takeboth of those.\n",
      "Ian Read: So, George, remind me the firstquestion again. I am sorry.\n",
      "George Grofik: Part D next year.\n",
      "Ian Read: Part D, well, I think we havediscussed this on previous calls. Clearly, the land grab was made early on andPart D is becoming more competitive and the negotiations to be morecompetitive. So there is more pressure vis-à-vis the net access and rebase andI expect that to be reflected in '08. And secondly, the question of thesoft market, I don't have any specific data anecdotally from distributors andfrom people we speak to. There maybe an issue of the [Donut Hall] and someresistance as seniors get close to that, may be causing a slow up. So, we would-- my belief is that, we can expect high single-digits for the statin market in'08.\n",
      "Jeff Kindler: Thank you. George, next questionplease.\n",
      "Operator: Your next question comes fromTony Butler of Lehman Brothers.\n",
      "Tony Butler: Thanks very much. Jeff, just alittle bit of a macro question and that is having been in the seat now forroughly 13 months, you have been very rapid for some change. In your managementteam you've been very rapid to execute some costs reduction and in my opinion weused to refocus the culture at Pfizer over that span of time. What's the next12 months holding for you and what are your true objectives over this veryfinite period of time, if you could? Thanks.\n",
      "Jeff Kindler: Well, thanks Tony. I think that'sa great question. I am glad that you asked it. I think, well I'd start bysaying is that when I started in this job and our current team start in thisjob, it was very clear to us that this business needed to be fixed in a lot ofways. We needed to get down to thefoundation of this company and rebuild some basic elements of itbrick-by-brick. I would say, just to use as examples, four big areas that we'vebeen addressing, with a great deal of intensity, are pursuable, focus andaccountability that required both changes in the culture but alsoorganizational changes that I've talked a lot about. Second, improving our leadershipcadre which I have talked about. Third, a disciplined approach tocapital allocation and prioritizing our investments. Starting to get into thehabit of understanding that we can't do all things to all people, we can't doeverything we'd like to do and we have to focus our investments where theyprovide the greatest opportunities, that's a bit of a change for us quitefrankly. And fourth, improving our costbase, making it more flexible and instilling the culture productivity, all ofthis is foundational. I think, we've made a lot of progress but I will say Idon't think we're by any means done and we have a lot more to do in this regard. And in order to establishourselves for the future, we have to have the foundation right. This is toughwork and there are  no quick fixes. Ithink we're making a lot of progress as I have said but we need to keep going.We all know very well that we face in 2011 loss of exclusivity on the largestproduct in the history of pharmaceutical industry and that we have to be, whilewe are fixing the foundation of this business, while we are improving ouroperational performance, we have to be thinking about, not just thinking about,but taking actions to prepare ourselves for that time. To reset the companystrategically to really push our late stage pipeline, to provide real focus onthe value that's in that pipeline, to continue with focus on aggressive businessdevelopment. To see whether we can get more out of our mature products, which Ithink is an opportunity to focus on parts of the world like Asia, where thereare tremendous opportunities, we need to continue to do, to looking forcomplementary products and technologies that can enhance the value of ourofferings, and we are going to focus on all of these on multiple fronts. So, over the next year and in thenext month, so I think you will see continued activity across all those areasthat I have listed. There isn't a magic bullet here. There isn't a singlesolution that one day we are going to open the curtain and unveil, and I amsorry people find that disappointing. We are very focused on building afoundation for success, optimizing our current performance, and doingeverything we need to do to prepare the company for the Lipitor to elevate.\n",
      "Tony Butler: Thanks Jeff.\n",
      "Jeff Kindler: Next question please.\n",
      "Operator: Your next question comes fromChris Schott of Banc of America.\n",
      "Chris Schott: Great. Thanks. Just two quickquestions. May be first with regards to the Lipitor franchise. Without anatural follow on the cholesterol business with 10 mg under pressure, it is2008 or 2009, too early to start thinking about pulling back resources fromthat product or just still from your perspective a good investment even withthe decline given that we kind of our heading towards that, I think I justmentioned that 2011 involve. And then, secondly question,maybe to Martin Mackay with regards to the R&D, just the scopes of R&Defforts right now. Are you comfortable with the breadth of investment? Or what are your thoughts on just may be Pfizer focusingon pure therapeutic categories may be the target investment you are making onOncology as an example, putting more resources towards may be in more selectedportfolio products? Thanks.\n",
      "Jeff Kindler: Okay.Chris, I’m going to let Ian take the first question and I just mentioned andyou’ll get to know him a lot better. It’s Mackay not Mackey. So, Ian do youwant to talk about the further investments in Lipitor?\n",
      "IanRead: Chris, as you imagine, the statin market isextremely competitive. I mean not only on the generic side but on the brandedside with large investments by behind Crestorand Vytorin. And we analyzed this verycarefully and have its models and look at response rates and I’ve got no doubtsthat we need to continue to maintain the support behind this brand through theperiods that you discussed, there is no question about it in my mind.\n",
      "Jeff Kindler: Martin?\n",
      "Martin Mackay: Thankyou for the question, Chris. Jeff alluded to the fact that we visited all themajor R&D sites last week, and during that visit we took along new PGRDleadership team, plus Corey Goodman andgained tremendous amount of excitement amongst the colleagues for some of thechanges that we’ve made. At those meetings, we laid out a very distinct fivepoint plan to all the colleagues in R&D. And although I won't go throughall of the points in the interest of time, I will mention two or three of themwhich really addresses the point that you make. Clearly and again as Jeff alluded to, over the shortterm, we must make sure that we deliver on our Phase 3 portfolio. I know thatportfolio isn’t as rich as like it to be in Phase 3, but nevertheless there isa lot of value there around our Oncology platform with Axitinib, CTLA-4, etcetera and another indications for Sutent. We also have some other excitingcompounds in that area, and we must deliver to gain the value for the company. Secondly, we need to make surethat this rich Phase 2 portfolio that we have which again has already beeneluded to, as we actually translate into Phase 3. And we do have a realpotential to create and more Phase 3 starts next year and in '09 and '10 thanwe have ever have before as an organization. So, to really accelerate, thehottest compounds through that pipeline. Now, it's the real piece that you'llask about to do this and this was the second part of the plan, we're going tohave to focus resources on the highest priority compound and the highestpriority disease areas. So immediately, I have launched a team to look at all thecompounds that we currently have in development and will be going through thosein a rigorous analysis one by one over the next two to three weeks to make surethat we are backing that very finest compound. Then next on our list is to lookat the disease areas that we work on and again, we’ve been doing quite a pieceof work over the summer already to really get to that heart of what aretherapeutic areas that we are going to be really crucial over the next period.You mentioned one of them Oncology, of course, we have other very hot areas,diabetes will continue. It's a very important area for us. Alzheimer's diseasefor example and a number of other areas that over a very short period of time,we are going to focus our resources on to the hottest compounds and the hottestareas.\n",
      "Jeff Kindler: Thank you, Martin. We have timefor one more question.\n",
      "Operator: Next question will be from JamesKelly of Goldman Sachs.\n",
      "James Kelly: Thank you and good afternoon. Iwant to just ask a quick two part question on this. One, to follow-up onDavid's question and really ask about the fixed cost component, on the Exuberaexit. If you are looking at about $1.1 billion of intangibles and $500 millionor just under that worth of fixed assets, what should we think about thesefixed cost charge per annum that will not be in the number going forward. And then secondly, as we take alook at some of the pipeline products that Pfizer has recently discontinued oreven Exubera, definitely seen that some of the products that were in-licensedin a very competitive process and had fairly high royalty rates. And forwhatever reason we are not meeting the right economic hurdles or we are notlooking like we are going meet the right profile. Are you thinking differentlynow about how you bring products in and what sort of variable cost componentcould come in on products that you are looking at from a business prospective?Thank you.\n",
      "Jeff Kindler: Okay. I well let Frank take thefirst part.\n",
      "Frank D'Amelio: Yeah, I think in terms of thefirst part of the question on fixed cost clearly to your point there will besome cost that will not be incurred which is the point that you all were askingabout when we get into 2008. But as I made on the same point before that's partof an array of various items we are working our way through relative to the2008 plan and to the guidance that we reaffirmed today on 2008. We're stillworking through the details of the '08 plan, we are comfortable with thegeneral parameters we provided today and come January, we'll provide anotherupdate on our 2008 guidance.\n",
      "Jeff Kindler: Jim, could you just restate yoursecond question again? Please.\n",
      "James Kelly: As you take a look at theopportunity thanks to in-license or the business development in general, areyou thinking differently about what kind of economics you want to bring inhouse. Because some of those products that you've recently exited, whether itsExubera or others in the pipeline had much higher variable cost burdens orroyalty burdens is that part of the calculus here at all?\n",
      "Jeff Kindler: I let David respond to that.\n",
      "David Shedlarz: Good Jim, there's a number ofdifferent ways that we're addressing business development not only from aneconomic point of view but from an organizational point of view and also interms of the types of transactions we are likely to enter into. And so, let mehighlight first that, we are exercising greater discipline in terms of that,the way that we are approaching overall business development, understanding asyou highlight, not only the initial cost in terms of entering into atransaction of the ongoing burden to the company at the same time. In somerespects, you have to take a look at business development the same way, youtake a look at in total activity, and you are just acquiring whatever you areacquiring at whatever stage on that basis and you have take into considerationof that which is only going to able to accommodate a certain level of activityat the same time. Also understand, you are notgoing to see your father's approach to business development going forward. Youwill see classical ways of entering for licenses and acquisitions, but you arealso going to see more alliances being established along the lines of what we putin place for a fix-a-band. And let me tell you what that ends up doingstrategically. One spreading the risk, two make in showing to your advantagethe best capabilities are people in the business. And three, this is probablythe more elegant way of dealing what is an over capacity in the pharmaceuticalindustry by pulling together activities. So, hopefully that answers yourquestion. There is going to be a lot of changes in the approach, not only fromeconomic point of view, but a risk of point of view, and a capabilities pointof view at the same time.\n",
      "Jeff Kindler: Thank you, David. That's all thetime we have today, I appreciate all of you listening in and have a goodafternoon.\n"
     ]
    }
   ],
   "source": [
    "print(ec10.content[1])"
   ]
  },
  {
   "attachments": {},
   "cell_type": "markdown",
   "metadata": {},
   "source": [
    "# Daily Stock Price Data: \n",
    "Obtained from Financial Modeling Prep API"
   ]
  },
  {
   "attachments": {},
   "cell_type": "markdown",
   "metadata": {},
   "source": [
    "numberOfShares is the volume and stockPrice is the close."
   ]
  },
  {
   "cell_type": "code",
   "execution_count": 10,
   "metadata": {},
   "outputs": [
    {
     "data": {
      "text/html": [
       "<div>\n",
       "<style scoped>\n",
       "    .dataframe tbody tr th:only-of-type {\n",
       "        vertical-align: middle;\n",
       "    }\n",
       "\n",
       "    .dataframe tbody tr th {\n",
       "        vertical-align: top;\n",
       "    }\n",
       "\n",
       "    .dataframe thead th {\n",
       "        text-align: right;\n",
       "    }\n",
       "</style>\n",
       "<table border=\"1\" class=\"dataframe\">\n",
       "  <thead>\n",
       "    <tr style=\"text-align: right;\">\n",
       "      <th></th>\n",
       "      <th>ticker</th>\n",
       "      <th>date</th>\n",
       "      <th>close</th>\n",
       "      <th>volume</th>\n",
       "    </tr>\n",
       "  </thead>\n",
       "  <tbody>\n",
       "    <tr>\n",
       "      <th>1394</th>\n",
       "      <td>ABBV</td>\n",
       "      <td>2017-01-03</td>\n",
       "      <td>62.410000</td>\n",
       "      <td>9328200.0</td>\n",
       "    </tr>\n",
       "    <tr>\n",
       "      <th>1393</th>\n",
       "      <td>ABBV</td>\n",
       "      <td>2017-01-04</td>\n",
       "      <td>63.290001</td>\n",
       "      <td>8674800.0</td>\n",
       "    </tr>\n",
       "    <tr>\n",
       "      <th>1392</th>\n",
       "      <td>ABBV</td>\n",
       "      <td>2017-01-05</td>\n",
       "      <td>63.770001</td>\n",
       "      <td>5359400.0</td>\n",
       "    </tr>\n",
       "    <tr>\n",
       "      <th>1391</th>\n",
       "      <td>ABBV</td>\n",
       "      <td>2017-01-06</td>\n",
       "      <td>63.790001</td>\n",
       "      <td>4722300.0</td>\n",
       "    </tr>\n",
       "    <tr>\n",
       "      <th>1390</th>\n",
       "      <td>ABBV</td>\n",
       "      <td>2017-01-09</td>\n",
       "      <td>64.209999</td>\n",
       "      <td>8794500.0</td>\n",
       "    </tr>\n",
       "  </tbody>\n",
       "</table>\n",
       "</div>"
      ],
      "text/plain": [
       "     ticker       date      close     volume\n",
       "1394   ABBV 2017-01-03  62.410000  9328200.0\n",
       "1393   ABBV 2017-01-04  63.290001  8674800.0\n",
       "1392   ABBV 2017-01-05  63.770001  5359400.0\n",
       "1391   ABBV 2017-01-06  63.790001  4722300.0\n",
       "1390   ABBV 2017-01-09  64.209999  8794500.0"
      ]
     },
     "execution_count": 10,
     "metadata": {},
     "output_type": "execute_result"
    }
   ],
   "source": [
    "mt10=pickle.load(open(\"../data/Sentiment_Market_Pharma/main_top10_ph.pickle\", \"rb\"))\n",
    "mt10.head(5)"
   ]
  },
  {
   "cell_type": "code",
   "execution_count": 11,
   "metadata": {},
   "outputs": [
    {
     "data": {
      "text/plain": [
       "ABBV    1395\n",
       "AZN     1395\n",
       "BMY     1395\n",
       "JNJ     1395\n",
       "LLY     1395\n",
       "MRK     1395\n",
       "NVO     1395\n",
       "NVS     1395\n",
       "PFE     1395\n",
       "ROG     1395\n",
       "Name: ticker, dtype: int64"
      ]
     },
     "execution_count": 11,
     "metadata": {},
     "output_type": "execute_result"
    }
   ],
   "source": [
    "mt10.ticker.value_counts()"
   ]
  },
  {
   "attachments": {},
   "cell_type": "markdown",
   "metadata": {},
   "source": [
    "This looks pretty balanced, we have equal amounts of data for the companies listed. Let's take a look at the timelines of the stock data we have to check if this matches up with the data of the earnings calls and the press release data."
   ]
  },
  {
   "cell_type": "code",
   "execution_count": 12,
   "metadata": {},
   "outputs": [
    {
     "data": {
      "text/plain": [
       "ticker    13950\n",
       "date      13950\n",
       "close     13950\n",
       "volume    13950\n",
       "dtype: int64"
      ]
     },
     "execution_count": 12,
     "metadata": {},
     "output_type": "execute_result"
    }
   ],
   "source": [
    "mt10.count()"
   ]
  },
  {
   "cell_type": "code",
   "execution_count": 13,
   "metadata": {},
   "outputs": [
    {
     "data": {
      "text/html": [
       "<div>\n",
       "<style scoped>\n",
       "    .dataframe tbody tr th:only-of-type {\n",
       "        vertical-align: middle;\n",
       "    }\n",
       "\n",
       "    .dataframe tbody tr th {\n",
       "        vertical-align: top;\n",
       "    }\n",
       "\n",
       "    .dataframe thead tr th {\n",
       "        text-align: left;\n",
       "    }\n",
       "\n",
       "    .dataframe thead tr:last-of-type th {\n",
       "        text-align: right;\n",
       "    }\n",
       "</style>\n",
       "<table border=\"1\" class=\"dataframe\">\n",
       "  <thead>\n",
       "    <tr>\n",
       "      <th></th>\n",
       "      <th colspan=\"2\" halign=\"left\">date</th>\n",
       "    </tr>\n",
       "    <tr>\n",
       "      <th></th>\n",
       "      <th>min</th>\n",
       "      <th>max</th>\n",
       "    </tr>\n",
       "    <tr>\n",
       "      <th>ticker</th>\n",
       "      <th></th>\n",
       "      <th></th>\n",
       "    </tr>\n",
       "  </thead>\n",
       "  <tbody>\n",
       "    <tr>\n",
       "      <th>ABBV</th>\n",
       "      <td>2017-01-03</td>\n",
       "      <td>2022-07-19</td>\n",
       "    </tr>\n",
       "    <tr>\n",
       "      <th>AZN</th>\n",
       "      <td>2017-01-03</td>\n",
       "      <td>2022-07-19</td>\n",
       "    </tr>\n",
       "    <tr>\n",
       "      <th>BMY</th>\n",
       "      <td>2017-01-03</td>\n",
       "      <td>2022-07-19</td>\n",
       "    </tr>\n",
       "    <tr>\n",
       "      <th>JNJ</th>\n",
       "      <td>2017-01-03</td>\n",
       "      <td>2022-07-19</td>\n",
       "    </tr>\n",
       "    <tr>\n",
       "      <th>LLY</th>\n",
       "      <td>2017-01-03</td>\n",
       "      <td>2022-07-19</td>\n",
       "    </tr>\n",
       "    <tr>\n",
       "      <th>MRK</th>\n",
       "      <td>2017-01-03</td>\n",
       "      <td>2022-07-19</td>\n",
       "    </tr>\n",
       "    <tr>\n",
       "      <th>NVO</th>\n",
       "      <td>2017-01-03</td>\n",
       "      <td>2022-07-19</td>\n",
       "    </tr>\n",
       "    <tr>\n",
       "      <th>NVS</th>\n",
       "      <td>2017-01-03</td>\n",
       "      <td>2022-07-19</td>\n",
       "    </tr>\n",
       "    <tr>\n",
       "      <th>PFE</th>\n",
       "      <td>2017-01-03</td>\n",
       "      <td>2022-07-19</td>\n",
       "    </tr>\n",
       "    <tr>\n",
       "      <th>ROG</th>\n",
       "      <td>2017-01-03</td>\n",
       "      <td>2022-07-19</td>\n",
       "    </tr>\n",
       "  </tbody>\n",
       "</table>\n",
       "</div>"
      ],
      "text/plain": [
       "             date           \n",
       "              min        max\n",
       "ticker                      \n",
       "ABBV   2017-01-03 2022-07-19\n",
       "AZN    2017-01-03 2022-07-19\n",
       "BMY    2017-01-03 2022-07-19\n",
       "JNJ    2017-01-03 2022-07-19\n",
       "LLY    2017-01-03 2022-07-19\n",
       "MRK    2017-01-03 2022-07-19\n",
       "NVO    2017-01-03 2022-07-19\n",
       "NVS    2017-01-03 2022-07-19\n",
       "PFE    2017-01-03 2022-07-19\n",
       "ROG    2017-01-03 2022-07-19"
      ]
     },
     "execution_count": 13,
     "metadata": {},
     "output_type": "execute_result"
    }
   ],
   "source": [
    "mt10.groupby('ticker').agg({'date':['min','max']})"
   ]
  },
  {
   "cell_type": "code",
   "execution_count": 14,
   "metadata": {},
   "outputs": [
    {
     "data": {
      "text/html": [
       "<div>\n",
       "<style scoped>\n",
       "    .dataframe tbody tr th:only-of-type {\n",
       "        vertical-align: middle;\n",
       "    }\n",
       "\n",
       "    .dataframe tbody tr th {\n",
       "        vertical-align: top;\n",
       "    }\n",
       "\n",
       "    .dataframe thead th {\n",
       "        text-align: right;\n",
       "    }\n",
       "</style>\n",
       "<table border=\"1\" class=\"dataframe\">\n",
       "  <thead>\n",
       "    <tr style=\"text-align: right;\">\n",
       "      <th></th>\n",
       "      <th>close</th>\n",
       "      <th>volume</th>\n",
       "    </tr>\n",
       "  </thead>\n",
       "  <tbody>\n",
       "    <tr>\n",
       "      <th>count</th>\n",
       "      <td>13950.000000</td>\n",
       "      <td>1.395000e+04</td>\n",
       "    </tr>\n",
       "    <tr>\n",
       "      <th>mean</th>\n",
       "      <td>89.934618</td>\n",
       "      <td>7.842981e+06</td>\n",
       "    </tr>\n",
       "    <tr>\n",
       "      <th>std</th>\n",
       "      <td>51.654806</td>\n",
       "      <td>9.698224e+06</td>\n",
       "    </tr>\n",
       "    <tr>\n",
       "      <th>min</th>\n",
       "      <td>26.719999</td>\n",
       "      <td>2.055400e+04</td>\n",
       "    </tr>\n",
       "    <tr>\n",
       "      <th>25%</th>\n",
       "      <td>52.485000</td>\n",
       "      <td>1.992975e+06</td>\n",
       "    </tr>\n",
       "    <tr>\n",
       "      <th>50%</th>\n",
       "      <td>75.676525</td>\n",
       "      <td>5.197348e+06</td>\n",
       "    </tr>\n",
       "    <tr>\n",
       "      <th>75%</th>\n",
       "      <td>115.457500</td>\n",
       "      <td>9.783250e+06</td>\n",
       "    </tr>\n",
       "    <tr>\n",
       "      <th>max</th>\n",
       "      <td>331.600000</td>\n",
       "      <td>2.301539e+08</td>\n",
       "    </tr>\n",
       "  </tbody>\n",
       "</table>\n",
       "</div>"
      ],
      "text/plain": [
       "              close        volume\n",
       "count  13950.000000  1.395000e+04\n",
       "mean      89.934618  7.842981e+06\n",
       "std       51.654806  9.698224e+06\n",
       "min       26.719999  2.055400e+04\n",
       "25%       52.485000  1.992975e+06\n",
       "50%       75.676525  5.197348e+06\n",
       "75%      115.457500  9.783250e+06\n",
       "max      331.600000  2.301539e+08"
      ]
     },
     "execution_count": 14,
     "metadata": {},
     "output_type": "execute_result"
    }
   ],
   "source": [
    "mt10.describe()"
   ]
  },
  {
   "cell_type": "code",
   "execution_count": 15,
   "metadata": {},
   "outputs": [
    {
     "data": {
      "text/plain": [
       "<Axes: xlabel='close', ylabel='Density'>"
      ]
     },
     "execution_count": 15,
     "metadata": {},
     "output_type": "execute_result"
    },
    {
     "data": {
      "image/png": "[encoded data removed]",
      "text/plain": [
       "<Figure size 640x480 with 1 Axes>"
      ]
     },
     "metadata": {},
     "output_type": "display_data"
    }
   ],
   "source": [
    "sns.distplot(mt10.close)"
   ]
  },
  {
   "attachments": {},
   "cell_type": "markdown",
   "metadata": {},
   "source": [
    "On analysing the volume of stocks sold, we can see that is this extremely right-skewed. Need to take a look at quartile ranges for this data."
   ]
  },
  {
   "cell_type": "code",
   "execution_count": 16,
   "metadata": {},
   "outputs": [
    {
     "data": {
      "text/plain": [
       "<Axes: xlabel='volume', ylabel='Density'>"
      ]
     },
     "execution_count": 16,
     "metadata": {},
     "output_type": "execute_result"
    },
    {
     "data": {
      "image/png": "[encoded data removed]",
      "text/plain": [
       "<Figure size 640x480 with 1 Axes>"
      ]
     },
     "metadata": {},
     "output_type": "display_data"
    }
   ],
   "source": [
    "sns.distplot(mt10.volume)"
   ]
  },
  {
   "attachments": {},
   "cell_type": "markdown",
   "metadata": {},
   "source": [
    "# DAILY MARKET SENTIMENT"
   ]
  },
  {
   "attachments": {},
   "cell_type": "markdown",
   "metadata": {},
   "source": [
    "Daily market sentiment: This is obtained from StockNews API, and seems to be just sentiments aggregated from news topics at a particular date, and not actual metrics computed from volatility metrics like the CBOE Volatility Index (VIX) or the High-Low Index or BPI. This is just an inference based on the fact that the StockNews API gives news articles, and just has a sentiment indicator that is categorical. This will need to be confirmed by Eric."
   ]
  },
  {
   "cell_type": "code",
   "execution_count": 17,
   "metadata": {},
   "outputs": [],
   "source": [
    "dailyms=pickle.load(open(\"../data/Sentiment_Market_Pharma/daily_market_sentiment.pickle\", \"rb\"))\n",
    "\n",
    "dailyms=dailyms.reset_index()"
   ]
  },
  {
   "cell_type": "code",
   "execution_count": 18,
   "metadata": {},
   "outputs": [
    {
     "data": {
      "text/plain": [
       "('2022-04-15', '2018-02-26')"
      ]
     },
     "execution_count": 18,
     "metadata": {},
     "output_type": "execute_result"
    }
   ],
   "source": [
    "dailyms.date.max(),dailyms.date.min()"
   ]
  },
  {
   "cell_type": "code",
   "execution_count": 19,
   "metadata": {},
   "outputs": [
    {
     "data": {
      "text/html": [
       "<div>\n",
       "<style scoped>\n",
       "    .dataframe tbody tr th:only-of-type {\n",
       "        vertical-align: middle;\n",
       "    }\n",
       "\n",
       "    .dataframe tbody tr th {\n",
       "        vertical-align: top;\n",
       "    }\n",
       "\n",
       "    .dataframe thead th {\n",
       "        text-align: right;\n",
       "    }\n",
       "</style>\n",
       "<table border=\"1\" class=\"dataframe\">\n",
       "  <thead>\n",
       "    <tr style=\"text-align: right;\">\n",
       "      <th></th>\n",
       "      <th>index</th>\n",
       "      <th>Negative</th>\n",
       "      <th>Neutral</th>\n",
       "      <th>Positive</th>\n",
       "    </tr>\n",
       "  </thead>\n",
       "  <tbody>\n",
       "    <tr>\n",
       "      <th>count</th>\n",
       "      <td>1146.000000</td>\n",
       "      <td>1146.000000</td>\n",
       "      <td>1146.000000</td>\n",
       "      <td>1146.000000</td>\n",
       "    </tr>\n",
       "    <tr>\n",
       "      <th>mean</th>\n",
       "      <td>24.105585</td>\n",
       "      <td>27.645724</td>\n",
       "      <td>30.815881</td>\n",
       "      <td>24.957243</td>\n",
       "    </tr>\n",
       "    <tr>\n",
       "      <th>std</th>\n",
       "      <td>14.226497</td>\n",
       "      <td>25.567142</td>\n",
       "      <td>21.055472</td>\n",
       "      <td>18.873676</td>\n",
       "    </tr>\n",
       "    <tr>\n",
       "      <th>min</th>\n",
       "      <td>0.000000</td>\n",
       "      <td>0.000000</td>\n",
       "      <td>0.000000</td>\n",
       "      <td>0.000000</td>\n",
       "    </tr>\n",
       "    <tr>\n",
       "      <th>25%</th>\n",
       "      <td>12.000000</td>\n",
       "      <td>6.000000</td>\n",
       "      <td>11.000000</td>\n",
       "      <td>6.000000</td>\n",
       "    </tr>\n",
       "    <tr>\n",
       "      <th>50%</th>\n",
       "      <td>24.000000</td>\n",
       "      <td>24.000000</td>\n",
       "      <td>32.000000</td>\n",
       "      <td>24.000000</td>\n",
       "    </tr>\n",
       "    <tr>\n",
       "      <th>75%</th>\n",
       "      <td>36.000000</td>\n",
       "      <td>40.000000</td>\n",
       "      <td>46.000000</td>\n",
       "      <td>38.000000</td>\n",
       "    </tr>\n",
       "    <tr>\n",
       "      <th>max</th>\n",
       "      <td>49.000000</td>\n",
       "      <td>229.000000</td>\n",
       "      <td>106.000000</td>\n",
       "      <td>114.000000</td>\n",
       "    </tr>\n",
       "  </tbody>\n",
       "</table>\n",
       "</div>"
      ],
      "text/plain": [
       "             index     Negative      Neutral     Positive\n",
       "count  1146.000000  1146.000000  1146.000000  1146.000000\n",
       "mean     24.105585    27.645724    30.815881    24.957243\n",
       "std      14.226497    25.567142    21.055472    18.873676\n",
       "min       0.000000     0.000000     0.000000     0.000000\n",
       "25%      12.000000     6.000000    11.000000     6.000000\n",
       "50%      24.000000    24.000000    32.000000    24.000000\n",
       "75%      36.000000    40.000000    46.000000    38.000000\n",
       "max      49.000000   229.000000   106.000000   114.000000"
      ]
     },
     "execution_count": 19,
     "metadata": {},
     "output_type": "execute_result"
    }
   ],
   "source": [
    "dailyms.describe()"
   ]
  },
  {
   "attachments": {},
   "cell_type": "markdown",
   "metadata": {},
   "source": [
    "# Press Release: \n",
    "Obtained from Financial Modeling Prep API"
   ]
  },
  {
   "cell_type": "code",
   "execution_count": 20,
   "metadata": {},
   "outputs": [],
   "source": [
    "press=pickle.load(open(\"../data/Sentiment_Market_Pharma/press_release_top10_ph.pickle\", \"r+b\"))\n",
    "press=pd.DataFrame(press).reset_index()"
   ]
  },
  {
   "cell_type": "code",
   "execution_count": 21,
   "metadata": {},
   "outputs": [
    {
     "name": "stdout",
     "output_type": "stream",
     "text": [
      "PFIZER AND BIONTECH RECEIVE EXPANDED U.S. EMERGENCY USE AUTHORIZATION FOR AN ADDITIONAL COVID-19 VACCINE BOOSTER IN INDIVIDUALS AGED 50 YEARS AND OLDER\n"
     ]
    }
   ],
   "source": [
    "print(press.title[4])"
   ]
  },
  {
   "cell_type": "code",
   "execution_count": 22,
   "metadata": {},
   "outputs": [
    {
     "data": {
      "text/plain": [
       "('2022-04-14', '2019-09-25')"
      ]
     },
     "execution_count": 22,
     "metadata": {},
     "output_type": "execute_result"
    }
   ],
   "source": [
    "press.date.max(),press.date.min()"
   ]
  },
  {
   "cell_type": "code",
   "execution_count": 23,
   "metadata": {},
   "outputs": [
    {
     "data": {
      "text/plain": [
       "index     1808\n",
       "symbol    1808\n",
       "date      1808\n",
       "title     1808\n",
       "text      1808\n",
       "dtype: int64"
      ]
     },
     "execution_count": 23,
     "metadata": {},
     "output_type": "execute_result"
    }
   ],
   "source": [
    "press.count()"
   ]
  },
  {
   "cell_type": "code",
   "execution_count": 24,
   "metadata": {},
   "outputs": [
    {
     "data": {
      "text/html": [
       "<div>\n",
       "<style scoped>\n",
       "    .dataframe tbody tr th:only-of-type {\n",
       "        vertical-align: middle;\n",
       "    }\n",
       "\n",
       "    .dataframe tbody tr th {\n",
       "        vertical-align: top;\n",
       "    }\n",
       "\n",
       "    .dataframe thead tr th {\n",
       "        text-align: left;\n",
       "    }\n",
       "\n",
       "    .dataframe thead tr:last-of-type th {\n",
       "        text-align: right;\n",
       "    }\n",
       "</style>\n",
       "<table border=\"1\" class=\"dataframe\">\n",
       "  <thead>\n",
       "    <tr>\n",
       "      <th></th>\n",
       "      <th colspan=\"2\" halign=\"left\">date</th>\n",
       "    </tr>\n",
       "    <tr>\n",
       "      <th></th>\n",
       "      <th>min</th>\n",
       "      <th>max</th>\n",
       "    </tr>\n",
       "    <tr>\n",
       "      <th>symbol</th>\n",
       "      <th></th>\n",
       "      <th></th>\n",
       "    </tr>\n",
       "  </thead>\n",
       "  <tbody>\n",
       "    <tr>\n",
       "      <th>ABBV</th>\n",
       "      <td>2019-09-25</td>\n",
       "      <td>2022-04-14</td>\n",
       "    </tr>\n",
       "    <tr>\n",
       "      <th>AZN</th>\n",
       "      <td>2020-11-19</td>\n",
       "      <td>2022-04-06</td>\n",
       "    </tr>\n",
       "    <tr>\n",
       "      <th>BMY</th>\n",
       "      <td>2019-09-27</td>\n",
       "      <td>2022-04-11</td>\n",
       "    </tr>\n",
       "    <tr>\n",
       "      <th>JNJ</th>\n",
       "      <td>2019-09-25</td>\n",
       "      <td>2022-04-07</td>\n",
       "    </tr>\n",
       "    <tr>\n",
       "      <th>LLY</th>\n",
       "      <td>2019-09-28</td>\n",
       "      <td>2022-04-11</td>\n",
       "    </tr>\n",
       "    <tr>\n",
       "      <th>MRK</th>\n",
       "      <td>2019-09-27</td>\n",
       "      <td>2022-04-14</td>\n",
       "    </tr>\n",
       "    <tr>\n",
       "      <th>NVO</th>\n",
       "      <td>2020-10-30</td>\n",
       "      <td>2022-04-11</td>\n",
       "    </tr>\n",
       "    <tr>\n",
       "      <th>NVS</th>\n",
       "      <td>2020-10-30</td>\n",
       "      <td>2022-04-05</td>\n",
       "    </tr>\n",
       "    <tr>\n",
       "      <th>PFE</th>\n",
       "      <td>2019-09-25</td>\n",
       "      <td>2022-04-11</td>\n",
       "    </tr>\n",
       "    <tr>\n",
       "      <th>ROG</th>\n",
       "      <td>2019-10-17</td>\n",
       "      <td>2022-01-25</td>\n",
       "    </tr>\n",
       "  </tbody>\n",
       "</table>\n",
       "</div>"
      ],
      "text/plain": [
       "              date            \n",
       "               min         max\n",
       "symbol                        \n",
       "ABBV    2019-09-25  2022-04-14\n",
       "AZN     2020-11-19  2022-04-06\n",
       "BMY     2019-09-27  2022-04-11\n",
       "JNJ     2019-09-25  2022-04-07\n",
       "LLY     2019-09-28  2022-04-11\n",
       "MRK     2019-09-27  2022-04-14\n",
       "NVO     2020-10-30  2022-04-11\n",
       "NVS     2020-10-30  2022-04-05\n",
       "PFE     2019-09-25  2022-04-11\n",
       "ROG     2019-10-17  2022-01-25"
      ]
     },
     "execution_count": 24,
     "metadata": {},
     "output_type": "execute_result"
    }
   ],
   "source": [
    "press.groupby('symbol').agg({'date':['min','max']})"
   ]
  },
  {
   "cell_type": "code",
   "execution_count": 25,
   "metadata": {},
   "outputs": [
    {
     "data": {
      "text/plain": [
       "MRK     281\n",
       "PFE     274\n",
       "LLY     265\n",
       "BMY     226\n",
       "ABBV    211\n",
       "JNJ     189\n",
       "AZN     170\n",
       "NVO     103\n",
       "NVS      67\n",
       "ROG      22\n",
       "Name: symbol, dtype: int64"
      ]
     },
     "execution_count": 25,
     "metadata": {},
     "output_type": "execute_result"
    }
   ],
   "source": [
    "press.symbol.value_counts()"
   ]
  },
  {
   "attachments": {},
   "cell_type": "markdown",
   "metadata": {},
   "source": [
    "### Merging the different datasets to get observations for which we have all the data."
   ]
  },
  {
   "cell_type": "code",
   "execution_count": 26,
   "metadata": {},
   "outputs": [],
   "source": [
    "ec10.drop(['index'],axis=1,inplace=True)"
   ]
  },
  {
   "cell_type": "code",
   "execution_count": 27,
   "metadata": {},
   "outputs": [
    {
     "data": {
      "text/plain": [
       "dtype('<M8[ns]')"
      ]
     },
     "execution_count": 27,
     "metadata": {},
     "output_type": "execute_result"
    }
   ],
   "source": [
    "# ec10.date.dtype\n",
    "mt10.date.dtype"
   ]
  },
  {
   "cell_type": "code",
   "execution_count": 28,
   "metadata": {},
   "outputs": [],
   "source": [
    "#datetime conversion\n",
    "ec10['date']=pd.to_datetime(ec10['date'])"
   ]
  },
  {
   "cell_type": "code",
   "execution_count": 38,
   "metadata": {},
   "outputs": [],
   "source": [
    "#merge the ec10 and the mt10 dataframes\n",
    "ec10mt10=pd.merge(ec10,mt10,how='outer',left_on=['symbol','date'],right_on=['ticker','date'])"
   ]
  },
  {
   "cell_type": "code",
   "execution_count": 30,
   "metadata": {},
   "outputs": [
    {
     "data": {
      "text/plain": [
       "0       2008-01-24\n",
       "1       2007-10-18\n",
       "2       2007-07-18\n",
       "3       2009-01-28\n",
       "4       2008-04-17\n",
       "           ...    \n",
       "14265   2022-07-13\n",
       "14266   2022-07-14\n",
       "14267   2022-07-15\n",
       "14268   2022-07-18\n",
       "14269   2022-07-19\n",
       "Name: date, Length: 14270, dtype: datetime64[ns]"
      ]
     },
     "execution_count": 30,
     "metadata": {},
     "output_type": "execute_result"
    }
   ],
   "source": [
    "ec10mt10.date"
   ]
  },
  {
   "cell_type": "code",
   "execution_count": 31,
   "metadata": {},
   "outputs": [
    {
     "data": {
      "text/html": [
       "<div>\n",
       "<style scoped>\n",
       "    .dataframe tbody tr th:only-of-type {\n",
       "        vertical-align: middle;\n",
       "    }\n",
       "\n",
       "    .dataframe tbody tr th {\n",
       "        vertical-align: top;\n",
       "    }\n",
       "\n",
       "    .dataframe thead th {\n",
       "        text-align: right;\n",
       "    }\n",
       "</style>\n",
       "<table border=\"1\" class=\"dataframe\">\n",
       "  <thead>\n",
       "    <tr style=\"text-align: right;\">\n",
       "      <th></th>\n",
       "      <th>symbol</th>\n",
       "      <th>quarter</th>\n",
       "      <th>year</th>\n",
       "      <th>date</th>\n",
       "      <th>content</th>\n",
       "      <th>ticker</th>\n",
       "      <th>close</th>\n",
       "      <th>volume</th>\n",
       "    </tr>\n",
       "  </thead>\n",
       "  <tbody>\n",
       "    <tr>\n",
       "      <th>0</th>\n",
       "      <td>PFE</td>\n",
       "      <td>4.0</td>\n",
       "      <td>2007.0</td>\n",
       "      <td>2008-01-24</td>\n",
       "      <td>Operator: Amal Naj, Head of Development. Pleas...</td>\n",
       "      <td>NaN</td>\n",
       "      <td>NaN</td>\n",
       "      <td>NaN</td>\n",
       "    </tr>\n",
       "    <tr>\n",
       "      <th>1</th>\n",
       "      <td>PFE</td>\n",
       "      <td>3.0</td>\n",
       "      <td>2007.0</td>\n",
       "      <td>2007-10-18</td>\n",
       "      <td>Operator: Mr. Amal Naj, Senior VicePresident o...</td>\n",
       "      <td>NaN</td>\n",
       "      <td>NaN</td>\n",
       "      <td>NaN</td>\n",
       "    </tr>\n",
       "    <tr>\n",
       "      <th>2</th>\n",
       "      <td>PFE</td>\n",
       "      <td>2.0</td>\n",
       "      <td>2007.0</td>\n",
       "      <td>2007-07-18</td>\n",
       "      <td>Operator: Amal Naj, Head of Investor Relations...</td>\n",
       "      <td>NaN</td>\n",
       "      <td>NaN</td>\n",
       "      <td>NaN</td>\n",
       "    </tr>\n",
       "    <tr>\n",
       "      <th>3</th>\n",
       "      <td>PFE</td>\n",
       "      <td>4.0</td>\n",
       "      <td>2008.0</td>\n",
       "      <td>2009-01-28</td>\n",
       "      <td>Operator: Good morning ladies and gentlemen an...</td>\n",
       "      <td>NaN</td>\n",
       "      <td>NaN</td>\n",
       "      <td>NaN</td>\n",
       "    </tr>\n",
       "    <tr>\n",
       "      <th>4</th>\n",
       "      <td>PFE</td>\n",
       "      <td>1.0</td>\n",
       "      <td>2008.0</td>\n",
       "      <td>2008-04-17</td>\n",
       "      <td>Operator: Now we have Amal Naj, Head of Invest...</td>\n",
       "      <td>NaN</td>\n",
       "      <td>NaN</td>\n",
       "      <td>NaN</td>\n",
       "    </tr>\n",
       "  </tbody>\n",
       "</table>\n",
       "</div>"
      ],
      "text/plain": [
       "  symbol  quarter    year       date  \\\n",
       "0    PFE      4.0  2007.0 2008-01-24   \n",
       "1    PFE      3.0  2007.0 2007-10-18   \n",
       "2    PFE      2.0  2007.0 2007-07-18   \n",
       "3    PFE      4.0  2008.0 2009-01-28   \n",
       "4    PFE      1.0  2008.0 2008-04-17   \n",
       "\n",
       "                                             content ticker  close  volume  \n",
       "0  Operator: Amal Naj, Head of Development. Pleas...    NaN    NaN     NaN  \n",
       "1  Operator: Mr. Amal Naj, Senior VicePresident o...    NaN    NaN     NaN  \n",
       "2  Operator: Amal Naj, Head of Investor Relations...    NaN    NaN     NaN  \n",
       "3  Operator: Good morning ladies and gentlemen an...    NaN    NaN     NaN  \n",
       "4  Operator: Now we have Amal Naj, Head of Invest...    NaN    NaN     NaN  "
      ]
     },
     "execution_count": 31,
     "metadata": {},
     "output_type": "execute_result"
    }
   ],
   "source": [
    "ec10mt10.symbol.fillna(ec10mt10.ticker,inplace=True)\n",
    "ec10mt10.ticker.fillna(ec10mt10.symbol,inplace=True)\n"
   ]
  },
  {
   "cell_type": "code",
   "execution_count": 32,
   "metadata": {},
   "outputs": [
    {
     "data": {
      "text/html": [
       "<div>\n",
       "<style scoped>\n",
       "    .dataframe tbody tr th:only-of-type {\n",
       "        vertical-align: middle;\n",
       "    }\n",
       "\n",
       "    .dataframe tbody tr th {\n",
       "        vertical-align: top;\n",
       "    }\n",
       "\n",
       "    .dataframe thead th {\n",
       "        text-align: right;\n",
       "    }\n",
       "</style>\n",
       "<table border=\"1\" class=\"dataframe\">\n",
       "  <thead>\n",
       "    <tr style=\"text-align: right;\">\n",
       "      <th></th>\n",
       "      <th>symbol</th>\n",
       "      <th>quarter</th>\n",
       "      <th>year</th>\n",
       "      <th>content</th>\n",
       "      <th>ticker</th>\n",
       "      <th>close</th>\n",
       "      <th>volume</th>\n",
       "    </tr>\n",
       "    <tr>\n",
       "      <th>date</th>\n",
       "      <th></th>\n",
       "      <th></th>\n",
       "      <th></th>\n",
       "      <th></th>\n",
       "      <th></th>\n",
       "      <th></th>\n",
       "      <th></th>\n",
       "    </tr>\n",
       "  </thead>\n",
       "  <tbody>\n",
       "    <tr>\n",
       "      <th>2005-11-09</th>\n",
       "      <td>1</td>\n",
       "      <td>1</td>\n",
       "      <td>1</td>\n",
       "      <td>1</td>\n",
       "      <td>0</td>\n",
       "      <td>0</td>\n",
       "      <td>0</td>\n",
       "    </tr>\n",
       "    <tr>\n",
       "      <th>2006-02-06</th>\n",
       "      <td>1</td>\n",
       "      <td>1</td>\n",
       "      <td>1</td>\n",
       "      <td>1</td>\n",
       "      <td>0</td>\n",
       "      <td>0</td>\n",
       "      <td>0</td>\n",
       "    </tr>\n",
       "    <tr>\n",
       "      <th>2006-04-20</th>\n",
       "      <td>1</td>\n",
       "      <td>1</td>\n",
       "      <td>1</td>\n",
       "      <td>1</td>\n",
       "      <td>0</td>\n",
       "      <td>0</td>\n",
       "      <td>0</td>\n",
       "    </tr>\n",
       "    <tr>\n",
       "      <th>2006-07-20</th>\n",
       "      <td>1</td>\n",
       "      <td>1</td>\n",
       "      <td>1</td>\n",
       "      <td>1</td>\n",
       "      <td>0</td>\n",
       "      <td>0</td>\n",
       "      <td>0</td>\n",
       "    </tr>\n",
       "    <tr>\n",
       "      <th>2006-10-20</th>\n",
       "      <td>1</td>\n",
       "      <td>1</td>\n",
       "      <td>1</td>\n",
       "      <td>1</td>\n",
       "      <td>0</td>\n",
       "      <td>0</td>\n",
       "      <td>0</td>\n",
       "    </tr>\n",
       "    <tr>\n",
       "      <th>...</th>\n",
       "      <td>...</td>\n",
       "      <td>...</td>\n",
       "      <td>...</td>\n",
       "      <td>...</td>\n",
       "      <td>...</td>\n",
       "      <td>...</td>\n",
       "      <td>...</td>\n",
       "    </tr>\n",
       "    <tr>\n",
       "      <th>2020-05-03</th>\n",
       "      <td>1</td>\n",
       "      <td>1</td>\n",
       "      <td>1</td>\n",
       "      <td>1</td>\n",
       "      <td>0</td>\n",
       "      <td>0</td>\n",
       "      <td>0</td>\n",
       "    </tr>\n",
       "    <tr>\n",
       "      <th>2020-08-02</th>\n",
       "      <td>1</td>\n",
       "      <td>1</td>\n",
       "      <td>1</td>\n",
       "      <td>1</td>\n",
       "      <td>0</td>\n",
       "      <td>0</td>\n",
       "      <td>0</td>\n",
       "    </tr>\n",
       "    <tr>\n",
       "      <th>2021-05-02</th>\n",
       "      <td>1</td>\n",
       "      <td>1</td>\n",
       "      <td>1</td>\n",
       "      <td>1</td>\n",
       "      <td>0</td>\n",
       "      <td>0</td>\n",
       "      <td>0</td>\n",
       "    </tr>\n",
       "    <tr>\n",
       "      <th>2021-07-31</th>\n",
       "      <td>1</td>\n",
       "      <td>1</td>\n",
       "      <td>1</td>\n",
       "      <td>1</td>\n",
       "      <td>0</td>\n",
       "      <td>0</td>\n",
       "      <td>0</td>\n",
       "    </tr>\n",
       "    <tr>\n",
       "      <th>2021-08-01</th>\n",
       "      <td>1</td>\n",
       "      <td>1</td>\n",
       "      <td>1</td>\n",
       "      <td>1</td>\n",
       "      <td>0</td>\n",
       "      <td>0</td>\n",
       "      <td>0</td>\n",
       "    </tr>\n",
       "  </tbody>\n",
       "</table>\n",
       "<p>261 rows × 7 columns</p>\n",
       "</div>"
      ],
      "text/plain": [
       "            symbol  quarter  year  content  ticker  close  volume\n",
       "date                                                             \n",
       "2005-11-09       1        1     1        1       0      0       0\n",
       "2006-02-06       1        1     1        1       0      0       0\n",
       "2006-04-20       1        1     1        1       0      0       0\n",
       "2006-07-20       1        1     1        1       0      0       0\n",
       "2006-10-20       1        1     1        1       0      0       0\n",
       "...            ...      ...   ...      ...     ...    ...     ...\n",
       "2020-05-03       1        1     1        1       0      0       0\n",
       "2020-08-02       1        1     1        1       0      0       0\n",
       "2021-05-02       1        1     1        1       0      0       0\n",
       "2021-07-31       1        1     1        1       0      0       0\n",
       "2021-08-01       1        1     1        1       0      0       0\n",
       "\n",
       "[261 rows x 7 columns]"
      ]
     },
     "execution_count": 32,
     "metadata": {},
     "output_type": "execute_result"
    }
   ],
   "source": [
    "ec10mt10=ec10mt10[ec10mt10.content.notna()]\n",
    "# [ec10mt10.close.notna()]\n",
    "ec10mt10[ec10mt10.close.isna()].groupby('date').count()"
   ]
  },
  {
   "cell_type": "code",
   "execution_count": 33,
   "metadata": {},
   "outputs": [],
   "source": [
    "#get the window around the earnings calls\n",
    "# go for regression on the window around the earnings calls\n",
    "# days since last earnings call\n",
    "\n"
   ]
  },
  {
   "cell_type": "code",
   "execution_count": 57,
   "metadata": {},
   "outputs": [],
   "source": [
    "ec10mt10['closeshifted']=ec10mt10.groupby('symbol').close.shift(1)"
   ]
  },
  {
   "cell_type": "code",
   "execution_count": 66,
   "metadata": {},
   "outputs": [],
   "source": [
    "ec10mt10.sort_values(by=['symbol','date'],inplace=True)"
   ]
  },
  {
   "cell_type": "code",
   "execution_count": 55,
   "metadata": {},
   "outputs": [],
   "source": [
    "ec10mt10.symbol.fillna(ec10mt10.ticker,inplace=True)\n",
    "ec10mt10.ticker.fillna(ec10mt10.symbol,inplace=True)\n"
   ]
  },
  {
   "cell_type": "code",
   "execution_count": 67,
   "metadata": {},
   "outputs": [
    {
     "data": {
      "text/html": [
       "<div>\n",
       "<style scoped>\n",
       "    .dataframe tbody tr th:only-of-type {\n",
       "        vertical-align: middle;\n",
       "    }\n",
       "\n",
       "    .dataframe tbody tr th {\n",
       "        vertical-align: top;\n",
       "    }\n",
       "\n",
       "    .dataframe thead th {\n",
       "        text-align: right;\n",
       "    }\n",
       "</style>\n",
       "<table border=\"1\" class=\"dataframe\">\n",
       "  <thead>\n",
       "    <tr style=\"text-align: right;\">\n",
       "      <th></th>\n",
       "      <th>symbol</th>\n",
       "      <th>quarter</th>\n",
       "      <th>year</th>\n",
       "      <th>date</th>\n",
       "      <th>content</th>\n",
       "      <th>ticker</th>\n",
       "      <th>close</th>\n",
       "      <th>volume</th>\n",
       "      <th>closeshifted</th>\n",
       "    </tr>\n",
       "  </thead>\n",
       "  <tbody>\n",
       "    <tr>\n",
       "      <th>419</th>\n",
       "      <td>ABBV</td>\n",
       "      <td>1.0</td>\n",
       "      <td>2013.0</td>\n",
       "      <td>2013-04-26</td>\n",
       "      <td>Operator: Good morning and thank you for stand...</td>\n",
       "      <td>ABBV</td>\n",
       "      <td>NaN</td>\n",
       "      <td>NaN</td>\n",
       "      <td>NaN</td>\n",
       "    </tr>\n",
       "    <tr>\n",
       "      <th>420</th>\n",
       "      <td>ABBV</td>\n",
       "      <td>2.0</td>\n",
       "      <td>2013.0</td>\n",
       "      <td>2013-07-26</td>\n",
       "      <td>Operator: Good morning and thank you for stand...</td>\n",
       "      <td>ABBV</td>\n",
       "      <td>NaN</td>\n",
       "      <td>NaN</td>\n",
       "      <td>NaN</td>\n",
       "    </tr>\n",
       "    <tr>\n",
       "      <th>418</th>\n",
       "      <td>ABBV</td>\n",
       "      <td>3.0</td>\n",
       "      <td>2013.0</td>\n",
       "      <td>2013-10-25</td>\n",
       "      <td>Operator: Good morning and thank you for stand...</td>\n",
       "      <td>ABBV</td>\n",
       "      <td>NaN</td>\n",
       "      <td>NaN</td>\n",
       "      <td>NaN</td>\n",
       "    </tr>\n",
       "    <tr>\n",
       "      <th>417</th>\n",
       "      <td>ABBV</td>\n",
       "      <td>4.0</td>\n",
       "      <td>2013.0</td>\n",
       "      <td>2014-01-31</td>\n",
       "      <td>Operator: Good morning, and thank you for stan...</td>\n",
       "      <td>ABBV</td>\n",
       "      <td>NaN</td>\n",
       "      <td>NaN</td>\n",
       "      <td>NaN</td>\n",
       "    </tr>\n",
       "    <tr>\n",
       "      <th>421</th>\n",
       "      <td>ABBV</td>\n",
       "      <td>1.0</td>\n",
       "      <td>2014.0</td>\n",
       "      <td>2014-04-25</td>\n",
       "      <td>Operator: Good morning and thank you for stand...</td>\n",
       "      <td>ABBV</td>\n",
       "      <td>NaN</td>\n",
       "      <td>NaN</td>\n",
       "      <td>NaN</td>\n",
       "    </tr>\n",
       "    <tr>\n",
       "      <th>...</th>\n",
       "      <td>...</td>\n",
       "      <td>...</td>\n",
       "      <td>...</td>\n",
       "      <td>...</td>\n",
       "      <td>...</td>\n",
       "      <td>...</td>\n",
       "      <td>...</td>\n",
       "      <td>...</td>\n",
       "      <td>...</td>\n",
       "    </tr>\n",
       "    <tr>\n",
       "      <th>14265</th>\n",
       "      <td>ROG</td>\n",
       "      <td>NaN</td>\n",
       "      <td>NaN</td>\n",
       "      <td>2022-07-13</td>\n",
       "      <td>NaN</td>\n",
       "      <td>ROG</td>\n",
       "      <td>261.93</td>\n",
       "      <td>74979.0</td>\n",
       "      <td>259.00</td>\n",
       "    </tr>\n",
       "    <tr>\n",
       "      <th>14266</th>\n",
       "      <td>ROG</td>\n",
       "      <td>NaN</td>\n",
       "      <td>NaN</td>\n",
       "      <td>2022-07-14</td>\n",
       "      <td>NaN</td>\n",
       "      <td>ROG</td>\n",
       "      <td>263.29</td>\n",
       "      <td>90034.0</td>\n",
       "      <td>261.93</td>\n",
       "    </tr>\n",
       "    <tr>\n",
       "      <th>14267</th>\n",
       "      <td>ROG</td>\n",
       "      <td>NaN</td>\n",
       "      <td>NaN</td>\n",
       "      <td>2022-07-15</td>\n",
       "      <td>NaN</td>\n",
       "      <td>ROG</td>\n",
       "      <td>264.00</td>\n",
       "      <td>130208.0</td>\n",
       "      <td>263.29</td>\n",
       "    </tr>\n",
       "    <tr>\n",
       "      <th>14268</th>\n",
       "      <td>ROG</td>\n",
       "      <td>NaN</td>\n",
       "      <td>NaN</td>\n",
       "      <td>2022-07-18</td>\n",
       "      <td>NaN</td>\n",
       "      <td>ROG</td>\n",
       "      <td>263.53</td>\n",
       "      <td>111222.0</td>\n",
       "      <td>264.00</td>\n",
       "    </tr>\n",
       "    <tr>\n",
       "      <th>14269</th>\n",
       "      <td>ROG</td>\n",
       "      <td>NaN</td>\n",
       "      <td>NaN</td>\n",
       "      <td>2022-07-19</td>\n",
       "      <td>NaN</td>\n",
       "      <td>ROG</td>\n",
       "      <td>266.01</td>\n",
       "      <td>118708.0</td>\n",
       "      <td>263.53</td>\n",
       "    </tr>\n",
       "  </tbody>\n",
       "</table>\n",
       "<p>14270 rows × 9 columns</p>\n",
       "</div>"
      ],
      "text/plain": [
       "      symbol  quarter    year       date  \\\n",
       "419     ABBV      1.0  2013.0 2013-04-26   \n",
       "420     ABBV      2.0  2013.0 2013-07-26   \n",
       "418     ABBV      3.0  2013.0 2013-10-25   \n",
       "417     ABBV      4.0  2013.0 2014-01-31   \n",
       "421     ABBV      1.0  2014.0 2014-04-25   \n",
       "...      ...      ...     ...        ...   \n",
       "14265    ROG      NaN     NaN 2022-07-13   \n",
       "14266    ROG      NaN     NaN 2022-07-14   \n",
       "14267    ROG      NaN     NaN 2022-07-15   \n",
       "14268    ROG      NaN     NaN 2022-07-18   \n",
       "14269    ROG      NaN     NaN 2022-07-19   \n",
       "\n",
       "                                                 content ticker   close  \\\n",
       "419    Operator: Good morning and thank you for stand...   ABBV     NaN   \n",
       "420    Operator: Good morning and thank you for stand...   ABBV     NaN   \n",
       "418    Operator: Good morning and thank you for stand...   ABBV     NaN   \n",
       "417    Operator: Good morning, and thank you for stan...   ABBV     NaN   \n",
       "421    Operator: Good morning and thank you for stand...   ABBV     NaN   \n",
       "...                                                  ...    ...     ...   \n",
       "14265                                                NaN    ROG  261.93   \n",
       "14266                                                NaN    ROG  263.29   \n",
       "14267                                                NaN    ROG  264.00   \n",
       "14268                                                NaN    ROG  263.53   \n",
       "14269                                                NaN    ROG  266.01   \n",
       "\n",
       "         volume  closeshifted  \n",
       "419         NaN           NaN  \n",
       "420         NaN           NaN  \n",
       "418         NaN           NaN  \n",
       "417         NaN           NaN  \n",
       "421         NaN           NaN  \n",
       "...         ...           ...  \n",
       "14265   74979.0        259.00  \n",
       "14266   90034.0        261.93  \n",
       "14267  130208.0        263.29  \n",
       "14268  111222.0        264.00  \n",
       "14269  118708.0        263.53  \n",
       "\n",
       "[14270 rows x 9 columns]"
      ]
     },
     "execution_count": 67,
     "metadata": {},
     "output_type": "execute_result"
    }
   ],
   "source": [
    "ec10mt10"
   ]
  },
  {
   "cell_type": "code",
   "execution_count": 71,
   "metadata": {},
   "outputs": [
    {
     "data": {
      "text/plain": [
       "1394   2017-01-03\n",
       "1393   2017-01-04\n",
       "1392   2017-01-05\n",
       "1391   2017-01-06\n",
       "1390   2017-01-09\n",
       "          ...    \n",
       "4      2022-07-13\n",
       "3      2022-07-14\n",
       "2      2022-07-15\n",
       "1      2022-07-18\n",
       "0      2022-07-19\n",
       "Name: date, Length: 1395, dtype: datetime64[ns]"
      ]
     },
     "execution_count": 71,
     "metadata": {},
     "output_type": "execute_result"
    }
   ],
   "source": [
    "mt10[mt10['ticker']=='ABBV']"
   ]
  },
  {
   "cell_type": "code",
   "execution_count": null,
   "metadata": {},
   "outputs": [],
   "source": []
  }
 ],
 "metadata": {
  "kernelspec": {
   "display_name": "thesis",
   "language": "python",
   "name": "python3"
  },
  "language_info": {
   "codemirror_mode": {
    "name": "ipython",
    "version": 3
   },
   "file_extension": ".py",
   "mimetype": "text/x-python",
   "name": "python",
   "nbconvert_exporter": "python",
   "pygments_lexer": "ipython3",
   "version": "3.9.16"
  },
  "orig_nbformat": 4
 },
 "nbformat": 4,
 "nbformat_minor": 2
}
