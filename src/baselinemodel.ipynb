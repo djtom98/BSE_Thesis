{
 "cells": [
  {
   "cell_type": "code",
   "execution_count": 1,
   "metadata": {},
   "outputs": [],
   "source": [
    "import pandas as pd\n",
    "import pickle\n"
   ]
  },
  {
   "cell_type": "code",
   "execution_count": 2,
   "metadata": {},
   "outputs": [],
   "source": [
    "metadata=pickle.load(open(\"../data/Sentiment_Market_Pharma/press_release_top10_ph.pickle\", \"r+b\"))\n",
    "mdf=pd.DataFrame(metadata).reset_index()"
   ]
  },
  {
   "cell_type": "code",
   "execution_count": 4,
   "metadata": {},
   "outputs": [
    {
     "data": {
      "text/plain": [
       "0       PFIZER NAMES DAVID M. DENTON CHIEF FINANCIAL O...\n",
       "1       PFIZER TO ACQUIRE REVIRAL AND ITS RESPIRATORY ...\n",
       "2       EVEREST MEDICINES ANNOUNCES THAT LICENSING PAR...\n",
       "3       VIIV HEALTHCARE ANNOUNCES US FDA APPROVAL OF C...\n",
       "4       PFIZER AND BIONTECH RECEIVE EXPANDED U.S. EMER...\n",
       "                              ...                        \n",
       "1803    MERCK & CO., INC. PRESENTS AT 2ND ANNUAL ADVAN...\n",
       "1804    FDA ACCEPTS TWO APPLICATIONS FOR MERCK’S DIFIC...\n",
       "1805    PIVOTAL RESTORE-IMI 2 PHASE 3 STUDY OF MERCK’S...\n",
       "1806    MERCK ANNOUNCES FINAL STUDY RESULTS EVALUATING...\n",
       "1807    ASTRAZENECA AND MERCK ANNOUNCES DETAILED POSIT...\n",
       "Name: title, Length: 1808, dtype: object"
      ]
     },
     "execution_count": 4,
     "metadata": {},
     "output_type": "execute_result"
    }
   ],
   "source": [
    "mdf.title"
   ]
  },
  {
   "cell_type": "code",
   "execution_count": 7,
   "metadata": {},
   "outputs": [],
   "source": [
    "import nltk\n",
    "from nltk import word_tokenize"
   ]
  },
  {
   "cell_type": "code",
   "execution_count": 12,
   "metadata": {},
   "outputs": [
    {
     "data": {
      "text/plain": [
       "['PFIZER', 'NAMES', 'DAVID', 'M.', 'DENTON', 'CHIEF', 'FINANCIAL', 'OFFICER']"
      ]
     },
     "execution_count": 12,
     "metadata": {},
     "output_type": "execute_result"
    }
   ],
   "source": [
    "word_tokenize(mdf.title[0])"
   ]
  },
  {
   "cell_type": "code",
   "execution_count": null,
   "metadata": {},
   "outputs": [],
   "source": []
  }
 ],
 "metadata": {
  "kernelspec": {
   "display_name": "thesis",
   "language": "python",
   "name": "python3"
  },
  "language_info": {
   "codemirror_mode": {
    "name": "ipython",
    "version": 3
   },
   "file_extension": ".py",
   "mimetype": "text/x-python",
   "name": "python",
   "nbconvert_exporter": "python",
   "pygments_lexer": "ipython3",
   "version": "3.9.7"
  },
  "orig_nbformat": 4
 },
 "nbformat": 4,
 "nbformat_minor": 2
}
